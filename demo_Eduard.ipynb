{
 "cells": [
  {
   "cell_type": "markdown",
   "metadata": {},
   "source": [
    "# Random Forests\n"
   ]
  },
  {
   "cell_type": "markdown",
   "metadata": {},
   "source": [
    "Here is the demonstration of 3 class-prediction methods. First, we are going to fit logistic regression and implement a prediction algorithm. After that, we will fit a decision tree which also predicts the class of a variable with particular features. Also we will train a random forest and in the end we are going to compare the results of these three methods.  "
   ]
  },
  {
   "cell_type": "code",
   "execution_count": 1,
   "metadata": {
    "collapsed": false
   },
   "outputs": [],
   "source": [
    "import numpy as np\n",
    "from collections import defaultdict\n",
    "import builtins\n",
    "import matplotlib.pyplot as plt\n",
    "from logistic_regression import gradient_descent,lr_predict\n",
    "from dtOmitted import DecisionNode\n",
    "from decision_tree import DecisionTree\n",
    "from random_forest import RandomForest\n"
   ]
  },
  {
   "cell_type": "markdown",
   "metadata": {},
   "source": [
    "# Comparison\n"
   ]
  },
  {
   "cell_type": "code",
   "execution_count": 4,
   "metadata": {
    "collapsed": true
   },
   "outputs": [],
   "source": [
    "def accuracy_score(Y_true, Y_predict):\n",
    "    accuracy=0\n",
    "    for i in range(len(Y_true)):\n",
    "        if Y_predict[i]==Y_true[i]:\n",
    "            accuracy+=1\n",
    "    return accuracy/len(Y_true)\n",
    "\n",
    "\n",
    "def evaluate_performance():\n",
    "    '''\n",
    "    Evaluate the performance of decision trees and logistic regression,\n",
    "    average over 1,000 trials of 10-fold cross validation\n",
    "\n",
    "    Return:\n",
    "      a matrix giving the performance that will contain the following entries:\n",
    "      stats[0,0] = mean accuracy of decision tree\n",
    "      stats[0,1] = std deviation of decision tree accuracy\n",
    "      stats[1,0] = mean accuracy of logistic regression\n",
    "      stats[1,1] = std deviation of logistic regression accuracy\n",
    "\n",
    "    ** Note that your implementation must follow this API**\n",
    "    '''\n",
    "\n",
    "    # Load Data\n",
    "    filename = 'SPECTF.dat'\n",
    "    data = np.loadtxt(filename, delimiter=',')\n",
    "    X = data[:, 1:]\n",
    "    y = np.array(data[:, 0])\n",
    "    for i in range(len(y)):\n",
    "        if y[i]==0:\n",
    "            y[i]=-1\n",
    "    n, d = X.shape\n",
    "    folds=10\n",
    "\n",
    "    decision_tree_accuracies=[]\n",
    "    random_forest_accuracies=[]\n",
    "    log_regression_accuracies=[]\n",
    "\n",
    "    for trial in range(3):\n",
    "        #shuffle for each of the trials.\n",
    "        # the following code is for reference only.\n",
    "        idx = np.arange(n)\n",
    "        np.random.seed(13)\n",
    "        np.random.shuffle(idx)\n",
    "        X = X[idx]\n",
    "        y = y[idx]\n",
    "        size=int(n-n/folds)\n",
    "\n",
    "        print(\"trial\", trial)\n",
    "\n",
    "        # TODO: write your own code to split data (for cross validation)\n",
    "        Xtrain = X[:size,:]\n",
    "        Xtest = X[size:,:]\n",
    "        ytrain = y[:size]\n",
    "        ytest = y[size:]\n",
    "\n",
    "        # train the decision tree\n",
    "        dt = DecisionTree(100)\n",
    "        dt.fit(Xtrain, ytrain)\n",
    "\n",
    "        # output predictions on the remaining data\n",
    "        dt_pred = dt.predict(Xtest)\n",
    "        dt_accuracy = accuracy_score(ytest, dt_pred)\n",
    "        decision_tree_accuracies.append(dt_accuracy)\n",
    "\n",
    "        #train random forest\n",
    "        rf= RandomForest(10,100)\n",
    "        rf.fit(Xtrain,ytrain)\n",
    "        rf_pred= rf.predict(Xtest)[0]\n",
    "        rf_accuracy= accuracy_score(ytest,rf_pred)\n",
    "        random_forest_accuracies.append(rf_accuracy)\n",
    "\n",
    "        #logistic regression\n",
    "        lr_beta=gradient_descent(Xtrain,ytrain,step_size=1e-1,max_steps=500)\n",
    "        lr_pred=lr_predict(Xtest,lr_beta)\n",
    "        lr_accuracy=accuracy_score(ytest,lr_pred)\n",
    "        log_regression_accuracies.append(lr_accuracy)\n",
    "\n",
    "\n",
    "\n",
    "\n",
    "\n",
    "\n",
    "    # compute the training accuracy of the model\n",
    "    meanDecisionTreeAccuracy = np.mean(decision_tree_accuracies)\n",
    "    stddevDecisionTreeAccuracy = np.std(decision_tree_accuracies)\n",
    "    meanLogisticRegressionAccuracy = np.mean(log_regression_accuracies)\n",
    "    stddevLogisticRegressionAccuracy = np.std(log_regression_accuracies)\n",
    "    meanRandomForestAccuracy = np.mean(random_forest_accuracies)\n",
    "    stddevRandomForestAccuracy = np.std(random_forest_accuracies)\n",
    "\n",
    "    # make certain that the return value matches the API specification\n",
    "    stats = np.zeros((3, 2))\n",
    "    stats[0, 0] = meanDecisionTreeAccuracy\n",
    "    stats[0, 1] = stddevDecisionTreeAccuracy\n",
    "    stats[1, 0] = meanRandomForestAccuracy\n",
    "    stats[1, 1] = stddevRandomForestAccuracy\n",
    "    stats[2, 0] = meanLogisticRegressionAccuracy\n",
    "    stats[2, 1] = stddevLogisticRegressionAccuracy\n",
    "    return stats\n"
   ]
  },
  {
   "cell_type": "code",
   "execution_count": 5,
   "metadata": {
    "collapsed": false
   },
   "outputs": [
    {
     "name": "stdout",
     "output_type": "stream",
     "text": [
      "trial 0\n",
      "trial 1\n",
      "trial 2\n",
      "Decision Tree Accuracy =  0.728395061728  ( 0.0461933010713 )\n",
      "Random Forest Tree Accuracy =  0.814814814815  ( 0.0800091444248 )\n",
      "Logistic Reg. Accuracy =  0.802469135802  ( 0.0872971334798 )\n"
     ]
    }
   ],
   "source": [
    "stats = evaluate_performance()\n",
    "print (\"Decision Tree Accuracy = \", stats[0, 0], \" (\", stats[0, 1], \")\")\n",
    "print (\"Random Forest Tree Accuracy = \", stats[1, 0], \" (\", stats[1, 1], \")\")\n",
    "print (\"Logistic Reg. Accuracy = \", stats[2, 0], \" (\", stats[2, 1], \")\" )"
   ]
  },
  {
   "cell_type": "code",
   "execution_count": null,
   "metadata": {
    "collapsed": true
   },
   "outputs": [],
   "source": []
  }
 ],
 "metadata": {
  "kernelspec": {
   "display_name": "Python 3",
   "language": "python",
   "name": "python3"
  },
  "language_info": {
   "codemirror_mode": {
    "name": "ipython",
    "version": 3
   },
   "file_extension": ".py",
   "mimetype": "text/x-python",
   "name": "python",
   "nbconvert_exporter": "python",
   "pygments_lexer": "ipython3",
   "version": "3.6.0"
  }
 },
 "nbformat": 4,
 "nbformat_minor": 2
}
