{
 "cells": [
  {
   "cell_type": "code",
   "execution_count": 1,
   "metadata": {},
   "outputs": [
    {
     "name": "stderr",
     "output_type": "stream",
     "text": [
      "Using cuDNN version 5105 on context None\n",
      "Mapped name None to device cuda0: GeForce GTX 1080 (0000:01:00.0)\n"
     ]
    }
   ],
   "source": [
    "import numpy as np\n",
    "import theano\n",
    "import theano.tensor as T\n",
    "import lasagne\n",
    "import cPickle as pickle\n",
    "import os\n",
    "import matplotlib.pyplot as plt\n",
    "%matplotlib inline\n",
    "import scipy\n",
    "from scipy.misc import imread, imsave, imresize\n",
    "from lasagne.utils import floatX"
   ]
  },
  {
   "cell_type": "code",
   "execution_count": 2,
   "metadata": {
    "collapsed": true
   },
   "outputs": [],
   "source": [
    "# copyright: see http://www.robots.ox.ac.uk/~vgg/research/very_deep/\n",
    "\n",
    "\n",
    "from lasagne.layers import InputLayer\n",
    "from lasagne.layers import DenseLayer\n",
    "from lasagne.layers import NonlinearityLayer\n",
    "from lasagne.layers import DropoutLayer\n",
    "from lasagne.layers import Pool2DLayer as PoolLayer\n",
    "from lasagne.layers import Conv2DLayer as ConvLayer\n",
    "from lasagne.nonlinearities import softmax\n",
    "\n",
    "\n",
    "def build_model():\n",
    "    net = {}\n",
    "    net['input'] = InputLayer((None, 3, 224, 224))\n",
    "    net['conv1_1'] = ConvLayer(\n",
    "        net['input'], 64, 3, pad=1, flip_filters=False)\n",
    "    net['conv1_2'] = ConvLayer(\n",
    "        net['conv1_1'], 64, 3, pad=1, flip_filters=False)\n",
    "    net['pool1'] = PoolLayer(net['conv1_2'], 2)\n",
    "    net['conv2_1'] = ConvLayer(\n",
    "        net['pool1'], 128, 3, pad=1, flip_filters=False)\n",
    "    net['conv2_2'] = ConvLayer(\n",
    "        net['conv2_1'], 128, 3, pad=1, flip_filters=False)\n",
    "    net['pool2'] = PoolLayer(net['conv2_2'], 2)\n",
    "    net['conv3_1'] = ConvLayer(\n",
    "        net['pool2'], 256, 3, pad=1, flip_filters=False)\n",
    "    net['conv3_2'] = ConvLayer(\n",
    "        net['conv3_1'], 256, 3, pad=1, flip_filters=False)\n",
    "    net['conv3_3'] = ConvLayer(\n",
    "        net['conv3_2'], 256, 3, pad=1, flip_filters=False)\n",
    "    net['pool3'] = PoolLayer(net['conv3_3'], 2)\n",
    "    net['conv4_1'] = ConvLayer(\n",
    "        net['pool3'], 512, 3, pad=1, flip_filters=False)\n",
    "    net['conv4_2'] = ConvLayer(\n",
    "        net['conv4_1'], 512, 3, pad=1, flip_filters=False)\n",
    "    net['conv4_3'] = ConvLayer(\n",
    "        net['conv4_2'], 512, 3, pad=1, flip_filters=False)\n",
    "    net['pool4'] = PoolLayer(net['conv4_3'], 2)\n",
    "    net['conv5_1'] = ConvLayer(\n",
    "        net['pool4'], 512, 3, pad=1, flip_filters=False)\n",
    "    net['conv5_2'] = ConvLayer(\n",
    "        net['conv5_1'], 512, 3, pad=1, flip_filters=False)\n",
    "    net['conv5_3'] = ConvLayer(\n",
    "        net['conv5_2'], 512, 3, pad=1, flip_filters=False)\n",
    "    net['pool5'] = PoolLayer(net['conv5_3'], 2)\n",
    "    net['fc6'] = DenseLayer(net['pool5'], num_units=4096)\n",
    "    net['fc6_dropout'] = DropoutLayer(net['fc6'], p=0.5)\n",
    "    net['fc7'] = DenseLayer(net['fc6_dropout'], num_units=4096)\n",
    "    net['fc7_dropout'] = DropoutLayer(net['fc7'], p=0.5)\n",
    "    net['fc8'] = DenseLayer(\n",
    "        net['fc7_dropout'], num_units=1000, nonlinearity=None)\n",
    "    net['prob'] = NonlinearityLayer(net['fc8'], softmax)\n",
    "\n",
    "    return net"
   ]
  },
  {
   "cell_type": "code",
   "execution_count": 3,
   "metadata": {},
   "outputs": [
    {
     "name": "stdout",
     "output_type": "stream",
     "text": [
      "ostrich, Struthio camelus\n"
     ]
    }
   ],
   "source": [
    "#classes' names are stored here\n",
    "classes = pickle.load(open('classes.pkl'))\n",
    "#for example, 10th class is ostrich:\n",
    "print (classes[9])"
   ]
  },
  {
   "cell_type": "markdown",
   "metadata": {},
   "source": [
    "You have to implement two functions in the cell below.\n",
    "Preprocess function should take the image with shape (w, h, 3) and transform it into a tensor with shape (1, 3, 224, 224). Without this transformation, vgg19 won't be able to digest input image. Additionally, your preprocessing function have to rearrange channels RGB -> BGR and subtract mean values from every channel."
   ]
  },
  {
   "cell_type": "code",
   "execution_count": 3,
   "metadata": {},
   "outputs": [
    {
     "name": "stdout",
     "output_type": "stream",
     "text": [
      "int64\n",
      "0.0\n"
     ]
    }
   ],
   "source": [
    "MEAN_VALUES = np.array([104, 117, 123])\n",
    "IMAGE_W = 224\n",
    "def preprocess(img):\n",
    "    img = img[:,:,(2,1,0)]\n",
    "    img=img-MEAN_VALUES\n",
    "    \n",
    "    #convert from [w,h,3 to 1,3,w,h]\n",
    "    img = np.transpose(img, (2, 0, 1))[None]\n",
    "    return img\n",
    "\n",
    "def deprocess(img):\n",
    "    img = img.reshape(img.shape[1:]).transpose((1, 2, 0))\n",
    "    for i in range(3):\n",
    "        img[:,:, i] += MEAN_VALUES[i]\n",
    "    return img[:, :, :: -1].astype(np.uint8)\n",
    "\n",
    "\n",
    "img = (np.random.rand(IMAGE_W, IMAGE_W, 3) * 256).astype(np.uint8)\n",
    "print(preprocess(img).dtype)\n",
    "print (np.linalg.norm(deprocess(preprocess(img)) - img))"
   ]
  },
  {
   "cell_type": "markdown",
   "metadata": {},
   "source": [
    "If your implementation is correct, the number above will be small, because deprocess function is the inverse of preprocess function"
   ]
  },
  {
   "cell_type": "markdown",
   "metadata": {},
   "source": [
    "### Deploy the network"
   ]
  },
  {
   "cell_type": "code",
   "execution_count": 4,
   "metadata": {
    "collapsed": true
   },
   "outputs": [],
   "source": [
    "net = build_model()"
   ]
  },
  {
   "cell_type": "code",
   "execution_count": 6,
   "metadata": {
    "collapsed": true
   },
   "outputs": [],
   "source": [
    "import pickle\n",
    "with open('vgg16.pkl','rb') as f:\n",
    "    weights = pickle.load(f)\n",
    "     \n",
    "lasagne.layers.set_all_param_values(net['prob'], weights['param values'] )"
   ]
  },
  {
   "cell_type": "code",
   "execution_count": 7,
   "metadata": {
    "collapsed": true
   },
   "outputs": [],
   "source": [
    "input_image = T.tensor4('input')\n",
    "output = lasagne.layers.get_output(net['prob'], input_image)\n",
    "prob = theano.function([input_image], output) "
   ]
  },
  {
   "cell_type": "markdown",
   "metadata": {},
   "source": [
    "### Sanity check\n",
    "Давайте проверим, что загруженная сеть работает. Для этого мы скормим ей картину альбатроса и проверим, что она правильно его распознаёт"
   ]
  },
  {
   "cell_type": "code",
   "execution_count": 8,
   "metadata": {},
   "outputs": [
    {
     "data": {
      "image/png": "[encoded data removed]",
      "text/plain": [
       "<matplotlib.figure.Figure at 0x7fb8b725c6d0>"
      ]
     },
     "metadata": {},
     "output_type": "display_data"
    },
    {
     "name": "stdout",
     "output_type": "stream",
     "text": [
      "top-5 classes are:\n",
      "0.999841\talbatross\n",
      "0.000159\tgoose\n",
      "0.000000\twhite stork\n",
      "0.000000\tspoonbill\n",
      "0.000000\toystercatcher\n"
     ]
    }
   ],
   "source": [
    "img = imread('albatross.jpg')\n",
    "plt.imshow(img)\n",
    "plt.show()\n",
    "\n",
    "\n",
    "p = prob(preprocess(img).astype(np.float32))\n",
    "\n",
    "labels = p.ravel().argsort()[-1:-6:-1]\n",
    "print 'top-5 classes are:'\n",
    "for l in labels:\n",
    "    print '%3f\\t%s' % (p.ravel()[l], classes[l].split(',')[0])"
   ]
  },
  {
   "cell_type": "markdown",
   "metadata": {},
   "source": [
    "# Grand-quest: Dogs Vs Cats\n",
    "* original competition\n",
    "* https://www.kaggle.com/c/dogs-vs-cats\n",
    "* 25k JPEG images of various size, 2 classes (guess what)\n",
    "\n",
    "### Your main objective\n",
    "* In this seminar your goal is to fine-tune a pre-trained model to distinguish between the two rivaling animals\n",
    "* The first step is to just reuse some network layer as features"
   ]
  },
  {
   "cell_type": "code",
   "execution_count": null,
   "metadata": {
    "collapsed": true
   },
   "outputs": [],
   "source": [
    "!wget https://www.dropbox.com/s/d61lupw909hc785/dogs_vs_cats.train.zip?dl=1 -O data.zip\n",
    "!unzip data.zip"
   ]
  },
  {
   "cell_type": "markdown",
   "metadata": {
    "collapsed": true
   },
   "source": [
    "# for starters\n",
    "* Train sklearn model, evaluate validation accuracy (should be >80% )"
   ]
  },
  {
   "cell_type": "code",
   "execution_count": 108,
   "metadata": {},
   "outputs": [
    {
     "name": "stderr",
     "output_type": "stream",
     "text": [
      "100%|██████████| 25000/25000 [05:06<00:00, 81.45it/s]\n"
     ]
    }
   ],
   "source": [
    "#extract features from images\n",
    "from tqdm import tqdm\n",
    "from scipy.misc import imresize\n",
    "import os\n",
    "X = []\n",
    "Y = []\n",
    "\n",
    "input_image = T.tensor4('input')\n",
    "output_fc8 = lasagne.layers.get_output(net['fc8'], input_image)\n",
    "feature = theano.function([input_image], output_fc8) \n",
    "\n",
    "#this may be a tedious process. If so, store the results in some pickle and re-use them.\n",
    "for fname in tqdm(os.listdir('train/')):\n",
    "    y = fname.startswith(\"cat\")\n",
    "    img = imread(\"train/\"+fname)\n",
    "    img = preprocess(imresize(img,(IMAGE_W,IMAGE_W)))\n",
    "    features = feature(img.astype(np.float32))\n",
    "    Y.append(y)\n",
    "    X.append(features)\n",
    "\n"
   ]
  },
  {
   "cell_type": "code",
   "execution_count": 114,
   "metadata": {
    "collapsed": true
   },
   "outputs": [],
   "source": [
    "with open('feature_X.pkl','wb') as f:\n",
    "    pickle.dump(X,f,pickle.HIGHEST_PROTOCOL)\n",
    "with open ('feature_Y.pkl','wb') as g:\n",
    "    pickle.dump(Y,g,pickle.HIGHEST_PROTOCOL)"
   ]
  },
  {
   "cell_type": "code",
   "execution_count": 9,
   "metadata": {
    "collapsed": true
   },
   "outputs": [],
   "source": [
    "X=pickle.load(open('feature_X.pkl','rb'))\n",
    "Y=pickle.load(open('feature_Y.pkl','rb'))"
   ]
  },
  {
   "cell_type": "code",
   "execution_count": 10,
   "metadata": {
    "collapsed": true
   },
   "outputs": [],
   "source": [
    "X = np.concatenate(X) #stack all [1xfeature] matrices into one. \n",
    "assert X.ndim==2\n",
    "#WARNING! the concatenate works for [1xN] matrices. If you have other format, stack them yourself.\n",
    "\n",
    "#crop if we ended prematurely\n",
    "Y = Y[:len(X)]"
   ]
  },
  {
   "cell_type": "code",
   "execution_count": 11,
   "metadata": {},
   "outputs": [
    {
     "name": "stdout",
     "output_type": "stream",
     "text": [
      "(20000, 1000)\n"
     ]
    },
    {
     "name": "stderr",
     "output_type": "stream",
     "text": [
      "/home/tigrann/.local/lib/python2.7/site-packages/sklearn/cross_validation.py:44: DeprecationWarning: This module was deprecated in version 0.18 in favor of the model_selection module into which all the refactored classes and functions are moved. Also note that the interface of the new CV iterators are different from that of this module. This module will be removed in 0.20.\n",
      "  \"This module will be removed in 0.20.\", DeprecationWarning)\n"
     ]
    }
   ],
   "source": [
    "from sklearn.cross_validation import train_test_split\n",
    "\n",
    "X_train,X_test,Y_train,Y_test=train_test_split(X,Y,test_size=0.2)\n",
    "print(X_train.shape)"
   ]
  },
  {
   "cell_type": "code",
   "execution_count": 44,
   "metadata": {},
   "outputs": [
    {
     "data": {
      "text/plain": [
       "{'Ada Boost Classifier accuracy': 0.9728,\n",
       " 'Extra Trees Classifier accuracy': 0.97240000000000004,\n",
       " 'Gradient Boosting Classifier accuracy': 0.9738,\n",
       " 'Random Forest accuracy': 0.97599999999999998}"
      ]
     },
     "execution_count": 44,
     "metadata": {},
     "output_type": "execute_result"
    }
   ],
   "source": [
    "from sklearn.ensemble import RandomForestClassifier,ExtraTreesClassifier,GradientBoostingClassifier,AdaBoostClassifier\n",
    "from sklearn.linear_model import LogisticRegression, RidgeClassifier\n",
    "from sklearn.svm import SVC\n",
    "from sklearn.tree import DecisionTreeClassifier\n",
    "\n",
    "\n",
    "#Random Forest\n",
    "rf=RandomForestClassifier(n_estimators=100)\n",
    "rf.fit(X_train,Y_train)\n",
    "\n",
    "#Extra Trees Classifier\n",
    "etc=ExtraTreesClassifier(n_estimators=50)\n",
    "etc.fit(X_train,Y_train)\n",
    "\n",
    "# Gradient Boosting Classifier\n",
    "gbc=GradientBoostingClassifier(n_estimators=50)\n",
    "gbc.fit(X_train,Y_train)\n",
    "\n",
    "#Ada Boost Classifier\n",
    "\n",
    "abc=AdaBoostClassifier()\n",
    "abc.fit(X_train,Y_train)\n",
    "\n",
    "{'Random Forest accuracy': rf.score(X_test,Y_test),'Extra Trees Classifier accuracy': etc.score(X_test,Y_test),\n",
    "'Gradient Boosting Classifier accuracy' : gbc.score(X_test,Y_test),\n",
    "'Ada Boost Classifier accuracy': abc.score(X_test,Y_test)}\n"
   ]
  },
  {
   "cell_type": "code",
   "execution_count": 42,
   "metadata": {},
   "outputs": [
    {
     "data": {
      "text/plain": [
       "{'Logistic Regression accuracy': 0.97699999999999998,\n",
       " 'Ridge Classifier accuracy': 0.98080000000000001}"
      ]
     },
     "execution_count": 42,
     "metadata": {},
     "output_type": "execute_result"
    }
   ],
   "source": [
    "#Logistic Regression and Ridge Classifier\n",
    "lr=LogisticRegression()\n",
    "lr.fit(X_train,Y_train)\n",
    "\n",
    "rc=RidgeClassifier()\n",
    "rc.fit(X_train,Y_train)\n",
    "{'Logistic Regression accuracy':lr.score(X_test,Y_test),'Ridge Classifier accuracy':rc.score(X_test,Y_test)}"
   ]
  },
  {
   "cell_type": "code",
   "execution_count": 43,
   "metadata": {},
   "outputs": [
    {
     "data": {
      "text/plain": [
       "{'Decision Tree': 0.95440000000000003, 'SVC accuracy': 0.95620000000000005}"
      ]
     },
     "execution_count": 43,
     "metadata": {},
     "output_type": "execute_result"
    }
   ],
   "source": [
    "#SVC and Decision Tree\n",
    "\n",
    "svc=SVC()\n",
    "svc.fit(X_train,Y_train)\n",
    "\n",
    "dt=DecisionTreeClassifier()\n",
    "dt.fit(X_train,Y_train)\n",
    "\n",
    "{'SVC accuracy':svc.score(X_test,Y_test),'Decision Tree':dt.score(X_test,Y_test)}"
   ]
  },
  {
   "cell_type": "markdown",
   "metadata": {},
   "source": [
    "# Main quest\n",
    "\n",
    "* Get the score improved!\n",
    "\n",
    "No methods are illegal: ensembling, data augmentation, NN hacks. \n",
    "Just don't let test data slip into training.\n",
    "\n",
    "The main requirement is that you implement the NN fine-tuning recipe:\n",
    "### Split the raw image data\n",
    "  * please do train/validation/test instead of just train/test\n",
    "  * reasonable but not optimal split is 20k/2.5k/2.5k or 15k/5k/5k\n",
    "### Choose which vgg layers are you going to use\n",
    "  * Anything but for prob is okay\n",
    "  * Do not forget that vgg16 uses dropout\n",
    "### Build a few layers on top of chosen \"neck\" layers.\n",
    "  * a good idea is to just stack more layers inside the same network\n",
    "  * alternative: stack on top of get_output\n",
    "### Train the newly added layers for some iterations\n",
    "  * you can selectively train some weights by only sending them to your optimizer\n",
    "      * `lasagne.updates.mysupermegaoptimizer(loss, only_those_weights_i_wanna_train)`\n",
    "  * selecting all weights from the head but not below the neck:\n",
    "      * `all_params = lasagne.layers.get_all_params(new_output_layer_or_layers,trainable=True)`\n",
    "      * `old_params= lasagne.layers.get_all_params(neck_layers,trainable=True)`\n",
    "      * `new_params = [w for w in all_params if w not in old_params]`\n",
    "  * it's cruicial to monitor the network performance at this and following steps\n",
    "### Fine-tune the network body\n",
    "  * probably a good idea to SAVE your new network weights now 'cuz it's easy to mess things up.\n",
    "  * Moreover, saving weights periodically is a no-nonsense idea\n",
    "  * even more cruicial to monitor validation performance\n",
    "  * main network body may need a separate, much lower learning rate\n",
    "      * since updates are dictionaries, one can just compute union\n",
    "      * `updates = {}`\n",
    "      * `updates.update(lasagne.updates.how_i_optimize_old_weights())`\n",
    "      * `updates.update(lasagne.updates.how_i_optimize_old_weights())`\n",
    "      * make sure they do not have overlapping keys. Otherwise, earlier one will be forgotten.\n",
    "      * `assert len(updates) == len(old_updates) + len(new_updates)`\n",
    "### PROFIT!!!\n",
    "  * Evaluate the final score\n",
    "  * Submit to kaggle\n",
    "      * competition page https://www.kaggle.com/c/dogs-vs-cats\n",
    "      * get test data https://www.kaggle.com/c/dogs-vs-cats/data\n",
    "  \n",
    "## Some ways to get bonus points\n",
    "* explore other networks from the model zoo\n",
    "* play with architecture\n",
    "* 85%/90%/93%/95%/97% kaggle score (screen pls).\n",
    "* data augmentation, prediction-time data augmentation\n",
    "* use any more advanced fine-tuning technique you know/read anywhere\n",
    "* ml hacks that benefit the final score\n"
   ]
  },
  {
   "cell_type": "code",
   "execution_count": 5,
   "metadata": {},
   "outputs": [
    {
     "name": "stderr",
     "output_type": "stream",
     "text": [
      "100%|██████████| 25000/25000 [00:00<00:00, 1532512.93it/s]\n"
     ]
    }
   ],
   "source": [
    "#extract features from images\n",
    "from tqdm import tqdm\n",
    "from scipy.misc import imresize\n",
    "import os\n",
    "X1=[]\n",
    "Y1=[]\n",
    "for fname in tqdm(os.listdir('train/')):\n",
    "    y = fname.startswith(\"cat\")\n",
    "    X1.append(fname)\n",
    "    Y1.append(y)\n",
    "    \n",
    "X1=np.array(X1)\n",
    "Y1=np.array(Y1)"
   ]
  },
  {
   "cell_type": "code",
   "execution_count": 10,
   "metadata": {},
   "outputs": [
    {
     "name": "stdout",
     "output_type": "stream",
     "text": [
      "((25000,), (25000,))\n"
     ]
    }
   ],
   "source": [
    "print(X1.shape,Y1.shape)"
   ]
  },
  {
   "cell_type": "code",
   "execution_count": 6,
   "metadata": {},
   "outputs": [
    {
     "name": "stderr",
     "output_type": "stream",
     "text": [
      "/home/tigrann/.local/lib/python2.7/site-packages/sklearn/cross_validation.py:44: DeprecationWarning: This module was deprecated in version 0.18 in favor of the model_selection module into which all the refactored classes and functions are moved. Also note that the interface of the new CV iterators are different from that of this module. This module will be removed in 0.20.\n",
      "  \"This module will be removed in 0.20.\", DeprecationWarning)\n"
     ]
    }
   ],
   "source": [
    "from sklearn.cross_validation import train_test_split\n",
    "X_tr,X_rest,Y_tr,Y_rest=train_test_split(X1,Y1,test_size=0.2)\n",
    "X_val,X_t,Y_val,Y_t=train_test_split(X_rest,Y_rest,test_size=0.5)"
   ]
  },
  {
   "cell_type": "code",
   "execution_count": 7,
   "metadata": {
    "collapsed": true
   },
   "outputs": [],
   "source": [
    "from copy import deepcopy \n",
    "new_net=deepcopy(net)\n",
    "del new_net['prob'],new_net['fc8'],new_net['fc7_dropout']"
   ]
  },
  {
   "cell_type": "code",
   "execution_count": 8,
   "metadata": {
    "collapsed": true
   },
   "outputs": [],
   "source": [
    "new_net['elu']=DenseLayer(new_net['fc7'],100, nonlinearity=lasagne.nonlinearities.elu)\n",
    "new_net['lin_drop']=DropoutLayer(new_net['elu'],p=0.5)\n",
    "new_net['lin']=DenseLayer(new_net['lin_drop'],200, nonlinearity=lasagne.nonlinearities.linear)\n",
    "new_net['smax']= NonlinearityLayer(new_net['lin'], softmax)"
   ]
  },
  {
   "cell_type": "code",
   "execution_count": 14,
   "metadata": {},
   "outputs": [
    {
     "name": "stdout",
     "output_type": "stream",
     "text": [
      "[W, b, W, b, W, b, W, b, W, b, W, b, W, b, W, b, W, b, W, b, W, b, W, b, W, b, W, b, W, b, W, b, W, b]\n"
     ]
    }
   ],
   "source": [
    "all_weights = lasagne.layers.get_all_params(new_net['smax'])\n",
    "print all_weights"
   ]
  },
  {
   "cell_type": "code",
   "execution_count": 9,
   "metadata": {
    "collapsed": true
   },
   "outputs": [],
   "source": [
    "input_X = T.tensor4()\n",
    "target_y = T.vector('vec',dtype='int32')\n",
    "\n",
    "y_predicted = lasagne.layers.get_output(new_net['smax'],input_X)\n",
    "\n",
    "#Mean categorical crossentropy as a loss function - similar to logistic loss but for multiclass targets\n",
    "loss = lasagne.objectives.categorical_crossentropy(y_predicted,target_y).mean()\n",
    "\n",
    "#prediction accuracy\n",
    "accuracy = lasagne.objectives.categorical_accuracy(y_predicted,target_y).mean()\n",
    "\n",
    "all_params = lasagne.layers.get_all_params(new_net['smax'],trainable=True)\n",
    "old_params= lasagne.layers.get_all_params(new_net['fc7'],trainable=True)\n",
    "new_params = [w for w in all_params if w not in old_params]\n",
    "\n",
    "#This function computes gradient AND composes weight updates just like you did earlier\n",
    "updates_sgd = lasagne.updates.momentum(loss, new_params,learning_rate=0.01,momentum=0.9)"
   ]
  },
  {
   "cell_type": "code",
   "execution_count": 16,
   "metadata": {
    "collapsed": true
   },
   "outputs": [],
   "source": [
    "#function that computes loss and updates weights\n",
    "train_fun = theano.function([input_X,target_y],[loss,accuracy],updates= updates_sgd)\n",
    "\n",
    "#function that just computes accuracy\n",
    "accuracy_fun = theano.function([input_X,target_y],accuracy)"
   ]
  },
  {
   "cell_type": "code",
   "execution_count": 18,
   "metadata": {
    "collapsed": true
   },
   "outputs": [],
   "source": [
    "def iterate_minibatches(inputs, targets, batchsize):\n",
    "    assert len(inputs) == len(targets)\n",
    "    indices = np.arange(len(inputs))\n",
    "    np.random.shuffle(indices)\n",
    "    for start_idx in range(0, len(inputs) - batchsize + 1, batchsize):\n",
    "        excerpt = indices[start_idx:start_idx + batchsize]\n",
    "        yield inputs[excerpt], targets[excerpt]"
   ]
  },
  {
   "cell_type": "code",
   "execution_count": 18,
   "metadata": {},
   "outputs": [
    {
     "data": {
      "text/plain": [
       "(20000,)"
      ]
     },
     "execution_count": 18,
     "metadata": {},
     "output_type": "execute_result"
    }
   ],
   "source": [
    "X_tr.shape"
   ]
  },
  {
   "cell_type": "code",
   "execution_count": 10,
   "metadata": {
    "collapsed": true
   },
   "outputs": [],
   "source": [
    "import time\n",
    "\n",
    "def train(num_epochs = 100,batch_size = 50):\n",
    "    for epoch in range(num_epochs):\n",
    "        # In each epoch, we do a full pass over the training data:\n",
    "        train_err = 0\n",
    "        train_acc = 0\n",
    "        train_batches = 0\n",
    "        start_time = time.time()\n",
    "        for batch in iterate_minibatches(X_tr, Y_tr,batch_size):\n",
    "            inpt,targets = batch\n",
    "            inputs=[]\n",
    "            for fname in inpt:\n",
    "                img = imread(\"train/\"+fname)\n",
    "                img = preprocess(imresize(img,(IMAGE_W,IMAGE_W))).astype(np.float32)\n",
    "                inputs.append(img)\n",
    "            inputs=np.concatenate(inputs)\n",
    "            train_err_batch, train_acc_batch= train_fun(inputs, targets)\n",
    "            train_err += train_err_batch\n",
    "            train_acc += train_acc_batch\n",
    "            train_batches += 1\n",
    "\n",
    "        # And a full pass over the validation data:\n",
    "        val_acc = 0\n",
    "        val_batches = 0\n",
    "        for batch in iterate_minibatches(X_val, Y_val, batch_size):\n",
    "            inpt,targets = batch\n",
    "            inputs=[]\n",
    "            for fname in inpt:\n",
    "                img = imread(\"train/\"+fname)\n",
    "                img = preprocess(imresize(img,(IMAGE_W,IMAGE_W))).astype(np.float32)\n",
    "                inputs.append(img)\n",
    "            inputs=np.concatenate(inputs)\n",
    "            \n",
    "            val_acc += accuracy_fun(inputs, targets)\n",
    "            val_batches += 1\n",
    "\n",
    "    \n",
    "        # Then we print the results for this epoch:\n",
    "        print(\"Epoch {} of {} took {:.3f}s\".format(\n",
    "            epoch + 1, num_epochs, time.time() - start_time))\n",
    "\n",
    "        print(\"  training loss (in-iteration):\\t\\t{:.6f}\".format(train_err / train_batches))\n",
    "        print(\"  train accuracy:\\t\\t{:.2f} %\".format(\n",
    "            train_acc / train_batches * 100))\n",
    "        print(\"  validation accuracy:\\t\\t{:.2f} %\".format(\n",
    "            val_acc / val_batches * 100))"
   ]
  },
  {
   "cell_type": "code",
   "execution_count": 20,
   "metadata": {},
   "outputs": [
    {
     "name": "stdout",
     "output_type": "stream",
     "text": [
      "Epoch 1 of 10 took 184.949s\n",
      "  training loss (in-iteration):\t\t0.259957\n",
      "  train accuracy:\t\t94.91 %\n",
      "  validation accuracy:\t\t96.75 %\n",
      "Epoch 2 of 10 took 185.226s\n",
      "  training loss (in-iteration):\t\t0.078367\n",
      "  train accuracy:\t\t97.80 %\n",
      "  validation accuracy:\t\t97.54 %\n",
      "Epoch 3 of 10 took 185.202s\n",
      "  training loss (in-iteration):\t\t0.061488\n",
      "  train accuracy:\t\t98.03 %\n",
      "  validation accuracy:\t\t97.46 %\n",
      "Epoch 4 of 10 took 185.530s\n",
      "  training loss (in-iteration):\t\t0.048054\n",
      "  train accuracy:\t\t98.30 %\n",
      "  validation accuracy:\t\t97.67 %\n",
      "Epoch 5 of 10 took 185.182s\n",
      "  training loss (in-iteration):\t\t0.044334\n",
      "  train accuracy:\t\t98.45 %\n",
      "  validation accuracy:\t\t97.83 %\n",
      "Epoch 6 of 10 took 185.211s\n",
      "  training loss (in-iteration):\t\t0.042628\n",
      "  train accuracy:\t\t98.45 %\n",
      "  validation accuracy:\t\t97.71 %\n",
      "Epoch 7 of 10 took 185.267s\n",
      "  training loss (in-iteration):\t\t0.038409\n",
      "  train accuracy:\t\t98.57 %\n",
      "  validation accuracy:\t\t98.12 %\n",
      "Epoch 8 of 10 took 185.181s\n",
      "  training loss (in-iteration):\t\t0.036543\n",
      "  train accuracy:\t\t98.67 %\n",
      "  validation accuracy:\t\t97.88 %\n",
      "Epoch 9 of 10 took 185.228s\n",
      "  training loss (in-iteration):\t\t0.032596\n",
      "  train accuracy:\t\t98.79 %\n",
      "  validation accuracy:\t\t97.96 %\n",
      "Epoch 10 of 10 took 185.298s\n",
      "  training loss (in-iteration):\t\t0.033896\n",
      "  train accuracy:\t\t98.71 %\n",
      "  validation accuracy:\t\t97.96 %\n"
     ]
    }
   ],
   "source": [
    "train(10,200)"
   ]
  },
  {
   "cell_type": "code",
   "execution_count": 21,
   "metadata": {
    "collapsed": true
   },
   "outputs": [],
   "source": [
    "params=lasagne.layers.get_all_param_values(new_net['smax'])\n",
    "with open('params2.pkl','wb') as f:\n",
    "    pickle.dump(params,f,pickle.HIGHEST_PROTOCOL)"
   ]
  },
  {
   "cell_type": "code",
   "execution_count": 13,
   "metadata": {},
   "outputs": [],
   "source": [
    "with open('params2.pkl','rb') as f:\n",
    "    params=pickle.load(f)\n",
    "lasagne.layers.set_all_param_values(new_net['smax'],params)\n"
   ]
  },
  {
   "cell_type": "code",
   "execution_count": 14,
   "metadata": {
    "collapsed": true
   },
   "outputs": [],
   "source": [
    "input_X = T.tensor4()\n",
    "target_y = T.vector('vec',dtype='int32')\n",
    "\n",
    "y_predicted = lasagne.layers.get_output(new_net['smax'],input_X)\n",
    "\n",
    "#Mean categorical crossentropy as a loss function - similar to logistic loss but for multiclass targets\n",
    "loss = lasagne.objectives.categorical_crossentropy(y_predicted,target_y).mean()\n",
    "\n",
    "#prediction accuracy\n",
    "accuracy = lasagne.objectives.categorical_accuracy(y_predicted,target_y).mean()\n",
    "\n",
    "all_params = lasagne.layers.get_all_params(new_net['smax'],trainable=True)\n",
    "old_params= lasagne.layers.get_all_params(new_net['fc7'],trainable=True)\n",
    "new_params = [w for w in all_params if w not in old_params]\n",
    "\n",
    "#This function computes gradient AND composes weight updates just like you did earlier\n",
    "updates = {}\n",
    "old_updates=lasagne.updates.momentum(loss, old_params,learning_rate=0.001,momentum=0.9)\n",
    "new_updates=lasagne.updates.momentum(loss, new_params,learning_rate=0.01,momentum=0.9)\n",
    "updates.update(old_updates)\n",
    "updates.update(new_updates)\n",
    "assert len(updates) == len(old_updates) + len(new_updates)\n"
   ]
  },
  {
   "cell_type": "code",
   "execution_count": 22,
   "metadata": {},
   "outputs": [],
   "source": [
    "#function that computes loss and updates weights\n",
    "train_fun = theano.function([input_X,target_y],[loss,accuracy],updates=new_updates)\n",
    "\n",
    "#function that just computes accuracy\n",
    "accuracy_fun = theano.function([input_X,target_y],accuracy)"
   ]
  },
  {
   "cell_type": "code",
   "execution_count": 23,
   "metadata": {},
   "outputs": [
    {
     "name": "stdout",
     "output_type": "stream",
     "text": [
      "Epoch 1 of 10 took 182.618s\n",
      "  training loss (in-iteration):\t\t0.031352\n",
      "  train accuracy:\t\t98.75 %\n",
      "  validation accuracy:\t\t98.50 %\n",
      "Epoch 2 of 10 took 182.364s\n",
      "  training loss (in-iteration):\t\t0.033156\n",
      "  train accuracy:\t\t98.72 %\n",
      "  validation accuracy:\t\t98.12 %\n",
      "Epoch 3 of 10 took 182.615s\n",
      "  training loss (in-iteration):\t\t0.031108\n",
      "  train accuracy:\t\t98.86 %\n",
      "  validation accuracy:\t\t98.67 %\n",
      "Epoch 4 of 10 took 182.500s\n",
      "  training loss (in-iteration):\t\t0.028857\n",
      "  train accuracy:\t\t98.95 %\n",
      "  validation accuracy:\t\t98.17 %\n",
      "Epoch 5 of 10 took 182.644s\n",
      "  training loss (in-iteration):\t\t0.028106\n",
      "  train accuracy:\t\t98.93 %\n",
      "  validation accuracy:\t\t98.38 %\n",
      "Epoch 6 of 10 took 182.464s\n",
      "  training loss (in-iteration):\t\t0.028775\n",
      "  train accuracy:\t\t98.82 %\n",
      "  validation accuracy:\t\t98.46 %\n",
      "Epoch 7 of 10 took 182.577s\n",
      "  training loss (in-iteration):\t\t0.027283\n",
      "  train accuracy:\t\t98.98 %\n",
      "  validation accuracy:\t\t98.42 %\n",
      "Epoch 8 of 10 took 182.561s\n",
      "  training loss (in-iteration):\t\t0.027314\n",
      "  train accuracy:\t\t99.03 %\n",
      "  validation accuracy:\t\t98.75 %\n",
      "Epoch 9 of 10 took 182.671s\n",
      "  training loss (in-iteration):\t\t0.025011\n",
      "  train accuracy:\t\t99.03 %\n",
      "  validation accuracy:\t\t98.62 %\n",
      "Epoch 10 of 10 took 182.649s\n",
      "  training loss (in-iteration):\t\t0.024860\n",
      "  train accuracy:\t\t99.03 %\n",
      "  validation accuracy:\t\t98.67 %\n"
     ]
    }
   ],
   "source": [
    "train(10,200)"
   ]
  },
  {
   "cell_type": "markdown",
   "metadata": {
    "collapsed": true
   },
   "source": [
    "# Comment\n",
    "The training of old_parapms of vgg net requires a lot of memory on videocard and I did not manage to train the whole new network. "
   ]
  }
 ],
 "metadata": {
  "kernelspec": {
   "display_name": "Python 2",
   "language": "python",
   "name": "python2"
  },
  "language_info": {
   "codemirror_mode": {
    "name": "ipython",
    "version": 2
   },
   "file_extension": ".py",
   "mimetype": "text/x-python",
   "name": "python",
   "nbconvert_exporter": "python",
   "pygments_lexer": "ipython2",
   "version": "2.7.12"
  }
 },
 "nbformat": 4,
 "nbformat_minor": 2
}
