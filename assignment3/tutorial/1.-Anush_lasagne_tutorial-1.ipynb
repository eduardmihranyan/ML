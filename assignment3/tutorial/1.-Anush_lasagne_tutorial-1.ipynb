{
 "cells": [
  {
   "cell_type": "markdown",
   "metadata": {},
   "source": [
    "# lasagne\n",
    "* lasagne is a library for neural network building and training\n",
    "* it's a low-level library with almost seamless integration with theano\n",
    "\n",
    "For a demo we shall solve the same digit recognition problem, but at a different scale\n",
    "* images are now 28x28\n",
    "* 10 different digits\n",
    "* 50k samples"
   ]
  },
  {
   "cell_type": "code",
   "execution_count": 1,
   "metadata": {
    "collapsed": false
   },
   "outputs": [],
   "source": [
    "import numpy as np\n",
    "import theano\n",
    "import theano.tensor as T\n",
    "import matplotlib.pyplot as plt\n",
    "%matplotlib inline"
   ]
  },
  {
   "cell_type": "code",
   "execution_count": 2,
   "metadata": {
    "collapsed": false
   },
   "outputs": [
    {
     "name": "stdout",
     "output_type": "stream",
     "text": [
      "(50000, 1, 28, 28) (50000,)\n"
     ]
    }
   ],
   "source": [
    "from mnist import load_dataset\n",
    "X_train,y_train,X_val,y_val,X_test,y_test = load_dataset()\n",
    "\n",
    "print(X_train.shape,y_train.shape)"
   ]
  },
  {
   "cell_type": "code",
   "execution_count": 3,
   "metadata": {
    "collapsed": false
   },
   "outputs": [],
   "source": [
    "input_X = T.tensor4(\"X\")\n",
    "\n",
    "#input dimention (None means \"Arbitrary\" and only works at  the first axes [samples])\n",
    "input_shape = [None,1,28,28]\n",
    "\n",
    "target_y = T.vector(\"target Y integer\",dtype='int32')"
   ]
  },
  {
   "cell_type": "markdown",
   "metadata": {},
   "source": [
    "Defining network architecture"
   ]
  },
  {
   "cell_type": "code",
   "execution_count": 4,
   "metadata": {
    "collapsed": false
   },
   "outputs": [],
   "source": [
    "import lasagne\n",
    "from lasagne.layers import *\n",
    "\n",
    "\n",
    "import lasagne\n",
    "from lasagne.layers import *\n",
    "\n",
    "l1 = InputLayer(shape = input_shape,input_var=input_X)\n",
    "\n",
    "l2 = Conv2DLayer(l1, 16, 5)\n",
    "\n",
    "l3 = Pool2DLayer(l2, 2)\n",
    "\n",
    "l4 = Conv2DLayer(l3, 32, 3)\n",
    "\n",
    "l5 = Conv2DLayer(l4, 32, 3)\n",
    "\n",
    "l6 = DenseLayer(l5,num_units=100,nonlinearity = lasagne.nonlinearities.elu)\n",
    "\n",
    "\n",
    "l7 = DenseLayer(l6,num_units=150,nonlinearity = lasagne.nonlinearities.tanh)\n",
    "\n",
    "\n",
    "l_out = DenseLayer(l7,num_units = 10,nonlinearity=lasagne.nonlinearities.softmax)"
   ]
  },
  {
   "cell_type": "code",
   "execution_count": 5,
   "metadata": {
    "collapsed": true
   },
   "outputs": [],
   "source": [
    "#network prediction (theano-transformation)\n",
    "y_predicted = lasagne.layers.get_output(l_out)"
   ]
  },
  {
   "cell_type": "code",
   "execution_count": 6,
   "metadata": {
    "collapsed": false
   },
   "outputs": [
    {
     "name": "stdout",
     "output_type": "stream",
     "text": [
      "[W, b, W, b, W, b, W, b, W, b, W, b]\n"
     ]
    }
   ],
   "source": [
    "#all network weights (shared variables)\n",
    "all_weights = lasagne.layers.get_all_params(l_out)\n",
    "print (all_weights)"
   ]
  },
  {
   "cell_type": "markdown",
   "metadata": {},
   "source": [
    "### Than you could simply\n",
    "* define loss function manually\n",
    "* compute error gradient over all weights\n",
    "* define updates\n",
    "* But that's a whole lot of work and life's short\n",
    "  * not to mention life's too short to wait for SGD to converge\n",
    "\n",
    "Instead, we shall use Lasagne builtins"
   ]
  },
  {
   "cell_type": "code",
   "execution_count": 7,
   "metadata": {
    "collapsed": false
   },
   "outputs": [],
   "source": [
    "#Mean categorical crossentropy as a loss function - similar to logistic loss but for multiclass targets\n",
    "loss = lasagne.objectives.categorical_crossentropy(y_predicted,target_y).mean()\n",
    "\n",
    "#prediction accuracy\n",
    "accuracy = lasagne.objectives.categorical_accuracy(y_predicted,target_y).mean()\n",
    "\n",
    "#This function computes gradient AND composes weight updates just like you did earlier\n",
    "updates_sgd = lasagne.updates.adamax(loss, all_weights,learning_rate=0.01)"
   ]
  },
  {
   "cell_type": "code",
   "execution_count": 8,
   "metadata": {
    "collapsed": false
   },
   "outputs": [],
   "source": [
    "#function that computes loss and updates weights\n",
    "inp = [input_X,target_y]\n",
    "train_fun = theano.function(inp ,[loss,accuracy],updates= updates_sgd)\n",
    "\n",
    "#function that just computes accuracy\n",
    "accuracy_fun = theano.function([input_X,target_y],accuracy)"
   ]
  },
  {
   "cell_type": "markdown",
   "metadata": {},
   "source": [
    "### That's all, now let's train it!\n",
    "* We got a lot of data, so it's recommended that you use SGD\n",
    "* So let's implement a function that splits the training sample into minibatches"
   ]
  },
  {
   "cell_type": "code",
   "execution_count": 9,
   "metadata": {
    "collapsed": true
   },
   "outputs": [],
   "source": [
    "# An auxilary function that returns mini-batches for neural network training\n",
    "\n",
    "#Parameters\n",
    "# inputs - a tensor of images with shape (many, 1, 28, 28), e.g. X_train\n",
    "# outputs - a vector of answers for corresponding images e.g. Y_train\n",
    "#batch_size - a single number - the intended size of each batches\n",
    "\n",
    "def iterate_minibatches(inputs, targets, batchsize):\n",
    "    assert len(inputs) == len(targets)\n",
    "    indices = np.arange(len(inputs))\n",
    "    np.random.shuffle(indices)\n",
    "    for start_idx in range(0, len(inputs) - batchsize + 1, batchsize):\n",
    "        excerpt = indices[start_idx:start_idx + batchsize]\n",
    "        yield inputs[excerpt], targets[excerpt]"
   ]
  },
  {
   "cell_type": "markdown",
   "metadata": {},
   "source": [
    "# Training loop"
   ]
  },
  {
   "cell_type": "code",
   "execution_count": 10,
   "metadata": {
    "collapsed": false,
    "scrolled": false
   },
   "outputs": [
    {
     "name": "stdout",
     "output_type": "stream",
     "text": [
      "Epoch 1 of 15 took 187.103s\n",
      "  training loss (in-iteration):\t\t0.145372\n",
      "  train accuracy:\t\t95.63 %\n",
      "  validation accuracy:\t\t97.53 %\n",
      "Epoch 2 of 15 took 189.808s\n",
      "  training loss (in-iteration):\t\t0.060686\n",
      "  train accuracy:\t\t98.23 %\n",
      "  validation accuracy:\t\t98.34 %\n",
      "Epoch 3 of 15 took 199.225s\n",
      "  training loss (in-iteration):\t\t0.044184\n",
      "  train accuracy:\t\t98.73 %\n",
      "  validation accuracy:\t\t98.80 %\n",
      "Epoch 4 of 15 took 201.557s\n",
      "  training loss (in-iteration):\t\t0.032823\n",
      "  train accuracy:\t\t99.07 %\n",
      "  validation accuracy:\t\t98.80 %\n",
      "Epoch 5 of 15 took 201.101s\n",
      "  training loss (in-iteration):\t\t0.028490\n",
      "  train accuracy:\t\t99.14 %\n",
      "  validation accuracy:\t\t98.44 %\n",
      "Epoch 6 of 15 took 203.043s\n",
      "  training loss (in-iteration):\t\t0.024998\n",
      "  train accuracy:\t\t99.25 %\n",
      "  validation accuracy:\t\t99.10 %\n",
      "Epoch 7 of 15 took 201.940s\n",
      "  training loss (in-iteration):\t\t0.020328\n",
      "  train accuracy:\t\t99.42 %\n",
      "  validation accuracy:\t\t98.82 %\n",
      "Epoch 8 of 15 took 203.763s\n",
      "  training loss (in-iteration):\t\t0.017458\n",
      "  train accuracy:\t\t99.46 %\n",
      "  validation accuracy:\t\t98.72 %\n",
      "Epoch 9 of 15 took 205.190s\n",
      "  training loss (in-iteration):\t\t0.017548\n",
      "  train accuracy:\t\t99.47 %\n",
      "  validation accuracy:\t\t98.91 %\n",
      "Epoch 10 of 15 took 207.894s\n",
      "  training loss (in-iteration):\t\t0.015072\n",
      "  train accuracy:\t\t99.53 %\n",
      "  validation accuracy:\t\t98.83 %\n",
      "Epoch 11 of 15 took 203.020s\n",
      "  training loss (in-iteration):\t\t0.013992\n",
      "  train accuracy:\t\t99.57 %\n",
      "  validation accuracy:\t\t99.11 %\n",
      "200.4774670600891 s\n",
      "Epoch 12 of 15 took 200.478s\n",
      "  training loss (in-iteration):\t\t0.011672\n",
      "  train accuracy:\t\t99.66 %\n",
      "  validation accuracy:\t\t98.87 %\n",
      "200.46346592903137 s\n",
      "Epoch 13 of 15 took 200.463s\n",
      "  training loss (in-iteration):\t\t0.011099\n",
      "  train accuracy:\t\t99.66 %\n",
      "  validation accuracy:\t\t98.83 %\n",
      "200.96849489212036 s\n",
      "Epoch 14 of 15 took 200.969s\n",
      "  training loss (in-iteration):\t\t0.009654\n",
      "  train accuracy:\t\t99.69 %\n",
      "  validation accuracy:\t\t98.96 %\n",
      "Epoch 15 of 15 took 197.877s\n",
      "  training loss (in-iteration):\t\t0.010400\n",
      "  train accuracy:\t\t99.68 %\n",
      "  validation accuracy:\t\t99.02 %\n"
     ]
    }
   ],
   "source": [
    "import time\n",
    "\n",
    "num_epochs = 15 #amount of passes through the data\n",
    "batch_size = 10 #number of samples processed at each function call\n",
    "\n",
    "for epoch in range(num_epochs):\n",
    "    # In each epoch, we do a full pass over the training data:\n",
    "    train_err = 0\n",
    "    train_acc = 0\n",
    "    train_batches = 0\n",
    "    start_time = time.time()\n",
    "    for batch in iterate_minibatches(X_train, y_train,batch_size):\n",
    "        inputs, targets = batch\n",
    "        #print(inputs.shape, targets.shape)\n",
    "        train_err_batch, train_acc_batch= train_fun(inputs, targets)\n",
    "        train_err += train_err_batch\n",
    "        train_acc += train_acc_batch\n",
    "        train_batches += 1\n",
    "\n",
    "    # And a full pass over the validation data:\n",
    "    val_acc = 0\n",
    "    val_batches = 0\n",
    "    for batch in iterate_minibatches(X_val, y_val, batch_size):\n",
    "        inputs, targets = batch\n",
    "        val_acc += accuracy_fun(inputs, targets)\n",
    "        val_batches += 1\n",
    "    \n",
    "    if (time.time() - start_time)%100 < 1:\n",
    "        print( time.time() - start_time, 's')\n",
    "    \n",
    "    # Then we print the results for this epoch:\n",
    "    print(\"Epoch {} of {} took {:.3f}s\".format(\n",
    "        epoch + 1, num_epochs, time.time() - start_time))\n",
    "\n",
    "    print(\"  training loss (in-iteration):\\t\\t{:.6f}\".format(train_err / train_batches))\n",
    "    print(\"  train accuracy:\\t\\t{:.2f} %\".format(\n",
    "        train_acc / train_batches * 100))\n",
    "    print(\"  validation accuracy:\\t\\t{:.2f} %\".format(\n",
    "        val_acc / val_batches * 100))"
   ]
  },
  {
   "cell_type": "code",
   "execution_count": 11,
   "metadata": {
    "collapsed": false
   },
   "outputs": [
    {
     "name": "stdout",
     "output_type": "stream",
     "text": [
      "Final results:\n",
      "  test accuracy:\t\t99.06 %\n",
      "Achievement unlocked: 80lvl Warlock!\n"
     ]
    }
   ],
   "source": [
    "test_acc = 0\n",
    "test_batches = 0\n",
    "for batch in iterate_minibatches(X_test, y_test, 500):\n",
    "    inputs, targets = batch\n",
    "    acc = accuracy_fun(inputs, targets)\n",
    "    test_acc += acc\n",
    "    test_batches += 1\n",
    "print(\"Final results:\")\n",
    "print(\"  test accuracy:\\t\\t{:.2f} %\".format(\n",
    "    test_acc / test_batches * 100))\n",
    "\n",
    "if test_acc / test_batches * 100 > 99:\n",
    "    print (\"Achievement unlocked: 80lvl Warlock!\")\n",
    "else:\n",
    "    print (\"We need more magic!\")"
   ]
  },
  {
   "cell_type": "markdown",
   "metadata": {
    "collapsed": true
   },
   "source": [
    "# Now improve it!\n",
    "\n",
    "* Moar layers!\n",
    "* Moar units!\n",
    "* Different nonlinearities!"
   ]
  }
 ],
 "metadata": {
  "kernelspec": {
   "display_name": "Python 3",
   "language": "python",
   "name": "python3"
  },
  "language_info": {
   "codemirror_mode": {
    "name": "ipython",
    "version": 3
   },
   "file_extension": ".py",
   "mimetype": "text/x-python",
   "name": "python",
   "nbconvert_exporter": "python",
   "pygments_lexer": "ipython3",
   "version": "3.6.1"
  }
 },
 "nbformat": 4,
 "nbformat_minor": 1
}
