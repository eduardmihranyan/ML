{
 "cells": [
  {
   "cell_type": "markdown",
   "metadata": {},
   "source": [
    "# Theano, Lasagne\n",
    "and why they matter\n",
    "\n",
    "\n",
    "### got no lasagne?\n",
    "Install the __bleeding edge__ version from here: http://lasagne.readthedocs.org/en/latest/user/installation.html"
   ]
  },
  {
   "cell_type": "markdown",
   "metadata": {},
   "source": [
    "# Warming up\n",
    "* Implement a function that computes the sum of squares of numbers from 0 to N\n",
    "* Use numpy or python\n",
    "* An array of numbers 0 to N - numpy.arange(N)"
   ]
  },
  {
   "cell_type": "code",
   "execution_count": 1,
   "metadata": {
    "collapsed": false
   },
   "outputs": [],
   "source": [
    "import numpy as np\n",
    "def sum_squares(N):\n",
    "    a=np.arange(float(N))\n",
    "    return a.dot(a.T)"
   ]
  },
  {
   "cell_type": "code",
   "execution_count": 2,
   "metadata": {
    "collapsed": false
   },
   "outputs": [
    {
     "name": "stdout",
     "output_type": "stream",
     "text": [
      "CPU times: user 772 ms, sys: 724 ms, total: 1.5 s\n",
      "Wall time: 11.7 s\n"
     ]
    },
    {
     "data": {
      "text/plain": [
       "3.3333332833336305e+23"
      ]
     },
     "execution_count": 2,
     "metadata": {},
     "output_type": "execute_result"
    }
   ],
   "source": [
    "%%time\n",
    "sum_squares(10**8)"
   ]
  },
  {
   "cell_type": "markdown",
   "metadata": {},
   "source": [
    "# theano teaser\n",
    "\n",
    "Doing the very same thing"
   ]
  },
  {
   "cell_type": "code",
   "execution_count": 3,
   "metadata": {
    "collapsed": false
   },
   "outputs": [],
   "source": [
    "import theano\n",
    "import theano.tensor as T"
   ]
  },
  {
   "cell_type": "code",
   "execution_count": 4,
   "metadata": {
    "collapsed": true
   },
   "outputs": [],
   "source": [
    "#I gonna be function parameter\n",
    "N = T.scalar('a dimension', dtype='int32')\n",
    "\n",
    "#i am a recipe on how to produce sum of squares of arange of N given N\n",
    "result = (T.arange(N)**2).sum()\n",
    "\n",
    "#Compiling the recipe of computing \"result\" given N\n",
    "sum_function = theano.function(inputs = [N],outputs=result)"
   ]
  },
  {
   "cell_type": "code",
   "execution_count": 5,
   "metadata": {
    "collapsed": false
   },
   "outputs": [
    {
     "name": "stdout",
     "output_type": "stream",
     "text": [
      "CPU times: user 428 ms, sys: 316 ms, total: 744 ms\n",
      "Wall time: 745 ms\n"
     ]
    },
    {
     "data": {
      "text/plain": [
       "array(662921401752298880)"
      ]
     },
     "execution_count": 5,
     "metadata": {},
     "output_type": "execute_result"
    }
   ],
   "source": [
    "%%time\n",
    "sum_function(10**8)"
   ]
  },
  {
   "cell_type": "code",
   "execution_count": 6,
   "metadata": {
    "collapsed": true
   },
   "outputs": [],
   "source": [
    "x = T.scalar()\n",
    "\n",
    "f = theano.function([x], x / x)"
   ]
  },
  {
   "cell_type": "code",
   "execution_count": 7,
   "metadata": {
    "collapsed": false
   },
   "outputs": [
    {
     "data": {
      "text/plain": [
       "array(1.0)"
      ]
     },
     "execution_count": 7,
     "metadata": {},
     "output_type": "execute_result"
    }
   ],
   "source": [
    "f(0)"
   ]
  },
  {
   "cell_type": "markdown",
   "metadata": {},
   "source": [
    "# How does it work?\n",
    "__if you're currently in classroom, chances are i am explaining this text wall right now__\n",
    "* 1 You define inputs f your future function;\n",
    "* 2 You write a recipe for some transformation of inputs;\n",
    "* 3 You compile it;\n",
    "* You have just got a function!\n",
    "* The gobbledegooky version: you define a function as symbolic computation graph.\n",
    "\n",
    "\n",
    "* There are two main kinds of entities: \"Inputs\" and \"Transformations\"\n",
    "* Both can be numbers, vectors, matrices, tensors, etc.\n",
    "* Both can be integers, floats of booleans (uint8) of various size.\n",
    "\n",
    "\n",
    "* An input is a placeholder for function parameters.\n",
    " * N from example above\n",
    "\n",
    "\n",
    "* Transformations are the recipes for computing something given inputs and transformation\n",
    " * (T.arange(N)^2).sum() are 3 sequential transformations of N\n",
    " * Doubles all functions of numpy vector syntax\n",
    " * You can almost always go with replacing \"np.function\" with \"T.function\" aka \"theano.tensor.function\"\n",
    "   * np.mean -> T.mean\n",
    "   * np.arange -> T.arange\n",
    "   * np.cumsum -> T.cumsum\n",
    "   * and so on.\n",
    "   * builtin operations also work that way\n",
    "   * np.arange(10).mean() -> T.arange(10).mean()\n",
    "   * Once upon a blue moon the functions have different names or locations (e.g. T.extra_ops)\n",
    "     * Ask us or google it\n",
    " \n",
    " \n",
    "Still confused? We gonna fix that."
   ]
  },
  {
   "cell_type": "code",
   "execution_count": 8,
   "metadata": {
    "collapsed": true
   },
   "outputs": [],
   "source": [
    "#Inputs\n",
    "example_input_integer = T.scalar('scalar input', dtype='float32')\n",
    "\n",
    "example_input_tensor = T.tensor4('four dimensional tensor input') #dtype = theano.config.floatX by default\n",
    "#do not warry, we won't need tensor\n",
    "#yet\n",
    "\n",
    "input_vector = T.vector('', dtype='int32') # vector of integers"
   ]
  },
  {
   "cell_type": "code",
   "execution_count": 10,
   "metadata": {
    "collapsed": true
   },
   "outputs": [],
   "source": [
    "#Transformations\n",
    "\n",
    "#transofrmation: elementwise multiplication\n",
    "double_the_vector = input_vector * 2\n",
    "\n",
    "#elementwise cosine\n",
    "elementwise_cosine = T.cos(input_vector)\n",
    "\n",
    "#difference between squared vector and vector itself\n",
    "vector_squares = input_vector**2 - input_vector"
   ]
  },
  {
   "cell_type": "code",
   "execution_count": 11,
   "metadata": {
    "collapsed": false
   },
   "outputs": [],
   "source": [
    "#Practice time:\n",
    "#create two vectors of size float32\n",
    "my_vector = T.vector('', dtype='float32')\n",
    "my_vector2 = T.vector('', dtype='float32')"
   ]
  },
  {
   "cell_type": "code",
   "execution_count": 12,
   "metadata": {
    "collapsed": true
   },
   "outputs": [],
   "source": [
    "#Write a transformation(recipe):\n",
    "#(vec1)*(vec2) / (sin(vec1) +1)\n",
    "my_transformation = (my_vector*my_vector2)/(T.sin(my_vector)+1)"
   ]
  },
  {
   "cell_type": "code",
   "execution_count": 13,
   "metadata": {
    "collapsed": false
   },
   "outputs": [
    {
     "name": "stdout",
     "output_type": "stream",
     "text": [
      "Elemwise{true_div,no_inplace}.0\n"
     ]
    }
   ],
   "source": [
    "print(my_transformation)\n",
    "#it's okay it aint a number"
   ]
  },
  {
   "cell_type": "markdown",
   "metadata": {},
   "source": [
    "# Compiling\n",
    "* So far we were using \"symbolic\" variables and transformations\n",
    " * Defining the recipe for computation, but not computing anything\n",
    "* To use the recipe, one should compile it"
   ]
  },
  {
   "cell_type": "code",
   "execution_count": 14,
   "metadata": {
    "collapsed": true
   },
   "outputs": [],
   "source": [
    "inputs = [my_vector,my_vector2]\n",
    "outputs = [my_transformation]\n",
    "\n",
    "# The next lines compile a function that takes two vectors and computes your transformation\n",
    "my_function = theano.function(\n",
    "    inputs,outputs,\n",
    "    allow_input_downcast=True #automatic type casting for input parameters (e.g. float64 -> float32)\n",
    " )"
   ]
  },
  {
   "cell_type": "code",
   "execution_count": 15,
   "metadata": {
    "collapsed": false
   },
   "outputs": [
    {
     "name": "stdout",
     "output_type": "stream",
     "text": [
      "using python lists:\n",
      "[array([  2.1721766 ,   5.23752832,  15.77397728], dtype=float32)]\n",
      "\n",
      "using numpy arrays:\n",
      "[array([   0.        ,    2.77555895,    5.47030783,   14.02131271,\n",
      "         89.5477066 ,  676.25805664,   47.183918  ,   24.4084301 ,\n",
      "         23.68156242,   38.24041748], dtype=float32)]\n"
     ]
    }
   ],
   "source": [
    "#using function with, lists:\n",
    "print('using python lists:')\n",
    "print(my_function([1, 2, 3], [4, 5, 6]))\n",
    "print()\n",
    "\n",
    "#Or using numpy arrays:\n",
    "#btw, that 'float' dtype is casted to secong parameter dtype which is float32\n",
    "print('using numpy arrays:')\n",
    "print(my_function(np.arange(10),\n",
    "                  np.linspace(5, 6, 10, dtype='float')))"
   ]
  },
  {
   "cell_type": "markdown",
   "metadata": {},
   "source": [
    "# Debugging\n",
    "* Compilation can take a while for big functions\n",
    "* To avoid waiting, one can evaluate transformations without compiling\n",
    "* Without compilation, the code runs slower, so consider reducing input size\n"
   ]
  },
  {
   "cell_type": "code",
   "execution_count": 16,
   "metadata": {
    "collapsed": false
   },
   "outputs": [
    {
     "name": "stdout",
     "output_type": "stream",
     "text": [
      "[  2.1721766    5.23752832  15.77397728]\n",
      "add 2 vectors [ 5.  7.  9.]\n",
      "vector's shape: [3]\n"
     ]
    }
   ],
   "source": [
    "#a dictionary of inputs\n",
    "my_function_inputs = {\n",
    "    my_vector:[1, 2, 3],\n",
    "    my_vector2:[4, 5, 6]\n",
    "}\n",
    "\n",
    "# evaluate my_transformation\n",
    "# has to match with compiled function output\n",
    "print(my_transformation.eval(my_function_inputs))\n",
    "\n",
    "\n",
    "# can compute transformations on the fly\n",
    "print('add 2 vectors', (my_vector + my_vector2).eval(my_function_inputs))\n",
    "\n",
    "\n",
    "#!WARNING! if your transformation only depends on some inputs,\n",
    "#do not provide the rest of them\n",
    "print('vector\\'s shape:', my_vector.shape.eval({\n",
    "                            my_vector: [1, 2, 3]\n",
    "                          })\n",
    "     )"
   ]
  },
  {
   "cell_type": "markdown",
   "metadata": {},
   "source": [
    "* When debugging, one would generally want to reduce the computation complexity. For example, if you are about to feed neural network with 1000 samples batch, consider taking first 2.\n",
    "* If you really want to debug graph of high computation complexity, you could just as well compile it (e.g. with optimizer='fast_compile')"
   ]
  },
  {
   "cell_type": "markdown",
   "metadata": {},
   "source": [
    "# Do It Yourself"
   ]
  },
  {
   "cell_type": "code",
   "execution_count": 17,
   "metadata": {
    "collapsed": false
   },
   "outputs": [],
   "source": [
    "# Quest #1 - implement a function that computes a mean squared error of two input vectors\n",
    "# Your function has to take 2 vectors and return a single number\n",
    "\n",
    "y_hat=T.vector('',dtype='float32')\n",
    "y_star=T.vector('',dtype='float32')\n",
    "transform=(((y_hat-y_star)**2).sum())/y_hat.shape[0]\n",
    "compute_mse = theano.function([y_hat,y_star],transform,allow_input_downcast=True)"
   ]
  },
  {
   "cell_type": "code",
   "execution_count": 18,
   "metadata": {
    "collapsed": false
   },
   "outputs": [
    {
     "name": "stdout",
     "output_type": "stream",
     "text": [
      "All tests passed\n"
     ]
    }
   ],
   "source": [
    "# Tests\n",
    "from sklearn.metrics import mean_squared_error\n",
    "\n",
    "for n in [1, 5, 10, 10**3]:\n",
    "    elems = [np.arange(n), np.arange(n, 0, -1), np.zeros(n),\n",
    "             np.ones(n), np.random.random(n), np.random.randint(100, size=n)]\n",
    "    \n",
    "    for el in elems:\n",
    "        for el_2 in elems:\n",
    "            true_mse = np.array(mean_squared_error(el, el_2))\n",
    "            my_mse = compute_mse(el, el_2)\n",
    "            \n",
    "            if not np.allclose(true_mse, my_mse):\n",
    "                print('Wrong result:')\n",
    "                print('mse({},{})'.format(el, el_2))\n",
    "                print('should be: {}, but your function returned {}'.format(true_mse, my_mse))\n",
    "                raise(ValueError, 'Smth went wrong')\n",
    "\n",
    "print('All tests passed')"
   ]
  },
  {
   "cell_type": "markdown",
   "metadata": {},
   "source": [
    "# Shared variables\n",
    "\n",
    "* The inputs and transformations only exist when function is called\n",
    "\n",
    "* Shared variables always stay in memory like global variables\n",
    " * Shared variables can be included into a symbolic graph\n",
    " * They can be set and evaluated using special methods\n",
    "   * but they can't change value arbitrarily during symbolic graph computation\n",
    "   * we'll cover that later;\n",
    " \n",
    " \n",
    "* Hint: such variables are a perfect place to store network parameters\n",
    " * e.g. weights or some metadata"
   ]
  },
  {
   "cell_type": "code",
   "execution_count": 19,
   "metadata": {
    "collapsed": true
   },
   "outputs": [],
   "source": [
    "#creating shared variable\n",
    "shared_vector_1 = theano.shared(np.ones(10, dtype='float64'))"
   ]
  },
  {
   "cell_type": "code",
   "execution_count": 20,
   "metadata": {
    "collapsed": false
   },
   "outputs": [
    {
     "name": "stdout",
     "output_type": "stream",
     "text": [
      "initial value [ 1.  1.  1.  1.  1.  1.  1.  1.  1.  1.]\n"
     ]
    }
   ],
   "source": [
    "#evaluating shared variable (outside symbolicd graph)\n",
    "print('initial value', shared_vector_1.get_value())\n",
    "\n",
    "# within symbolic graph you use them just as any other input or transformation, not \"get value\" needed"
   ]
  },
  {
   "cell_type": "code",
   "execution_count": 21,
   "metadata": {
    "collapsed": false
   },
   "outputs": [
    {
     "name": "stdout",
     "output_type": "stream",
     "text": [
      "new value [ 0.  1.  2.  3.  4.]\n"
     ]
    }
   ],
   "source": [
    "#setting new value\n",
    "shared_vector_1.set_value( np.arange(5) )\n",
    "\n",
    "#getting that new value\n",
    "print('new value', shared_vector_1.get_value())\n",
    "\n",
    "#Note that the vector changed shape\n",
    "#This is entirely allowed... unless your graph is hard-wired to work with some fixed shape"
   ]
  },
  {
   "cell_type": "markdown",
   "metadata": {},
   "source": [
    "# Your turn"
   ]
  },
  {
   "cell_type": "code",
   "execution_count": 22,
   "metadata": {
    "collapsed": false
   },
   "outputs": [],
   "source": [
    "# Write a recipe (transformation) that computes an elementwise transformation of shared_vector and input_scalar\n",
    "#Compile as a function of input_scalar\n",
    "\n",
    "input_scalar = T.scalar('coefficient',dtype='float32')\n",
    "\n",
    "scalar_times_shared = input_scalar*shared_vector_1\n",
    "\n",
    "shared_times_n = theano.function([input_scalar],scalar_times_shared,allow_input_downcast=True)"
   ]
  },
  {
   "cell_type": "code",
   "execution_count": 23,
   "metadata": {
    "collapsed": false
   },
   "outputs": [
    {
     "name": "stdout",
     "output_type": "stream",
     "text": [
      "shared: [ 0.  1.  2.  3.  4.]\n",
      "shared_times_n(5) [  0.   5.  10.  15.  20.]\n",
      "shared_times_n(-0.5) [-0.  -0.5 -1.  -1.5 -2. ]\n"
     ]
    }
   ],
   "source": [
    "print('shared:', shared_vector_1.get_value())\n",
    "\n",
    "print('shared_times_n(5)', shared_times_n(5))\n",
    "\n",
    "print('shared_times_n(-0.5)', shared_times_n(-0.5))"
   ]
  },
  {
   "cell_type": "code",
   "execution_count": 24,
   "metadata": {
    "collapsed": false
   },
   "outputs": [
    {
     "name": "stdout",
     "output_type": "stream",
     "text": [
      "shared: [-1.  0.  1.]\n",
      "shared_times_n(5) [-5.  0.  5.]\n",
      "shared_times_n(-0.5) [ 0.5 -0.  -0.5]\n"
     ]
    }
   ],
   "source": [
    "#Changing value of vector 1 (output should change)\n",
    "shared_vector_1.set_value([-1, 0, 1])\n",
    "\n",
    "print('shared:', shared_vector_1.get_value())\n",
    "\n",
    "print('shared_times_n(5)', shared_times_n(5))\n",
    "\n",
    "print('shared_times_n(-0.5)', shared_times_n(-0.5))"
   ]
  },
  {
   "cell_type": "markdown",
   "metadata": {},
   "source": [
    "# T.grad - why theano matters\n",
    "* Theano can compute derivatives and gradients automatically\n",
    "* Derivatives are computed symbolically, not numerically\n",
    "\n",
    "Limitations:\n",
    "* You can only compute a gradient of a __scalar__ transformation over one or several scalar or vector (or tensor) transformations or inputs.\n",
    "* A transformation has to have float32 or float64 dtype throughout the whole computation graph\n",
    " * derivative over an integer has no mathematical sense\n"
   ]
  },
  {
   "cell_type": "code",
   "execution_count": 25,
   "metadata": {
    "collapsed": true
   },
   "outputs": [],
   "source": [
    "my_scalar = T.scalar(name='input',dtype='float64')\n",
    "\n",
    "scalar_squared = T.sum(my_scalar**2)\n",
    "\n",
    "#a derivative of v_squared by my_vector\n",
    "derivative = T.grad(scalar_squared,my_scalar)\n",
    "\n",
    "fun = theano.function([my_scalar], scalar_squared)\n",
    "grad = theano.function([my_scalar], derivative) "
   ]
  },
  {
   "cell_type": "code",
   "execution_count": 26,
   "metadata": {
    "collapsed": false
   },
   "outputs": [
    {
     "data": {
      "text/plain": [
       "<matplotlib.legend.Legend at 0x7f7fb6157ba8>"
      ]
     },
     "execution_count": 26,
     "metadata": {},
     "output_type": "execute_result"
    },
    {
     "data": {
      "image/png": "[encoded data removed]",
      "text/plain": [
       "<matplotlib.figure.Figure at 0x7f7fb3850c88>"
      ]
     },
     "metadata": {},
     "output_type": "display_data"
    }
   ],
   "source": [
    "import matplotlib.pyplot as plt\n",
    "plt.style.use('ggplot')\n",
    "\n",
    "%matplotlib inline\n",
    "\n",
    "x = np.linspace(-3, 3)\n",
    "x_squared = list(map(fun, x))\n",
    "x_squared_der = list(map(grad, x))\n",
    "\n",
    "plt.plot(x, x_squared, label='x^2')\n",
    "plt.plot(x, x_squared_der, label='derivative')\n",
    "plt.legend(loc='best')"
   ]
  },
  {
   "cell_type": "markdown",
   "metadata": {},
   "source": [
    "# Why that rocks"
   ]
  },
  {
   "cell_type": "code",
   "execution_count": 27,
   "metadata": {
    "collapsed": true
   },
   "outputs": [],
   "source": [
    "my_vector = T.vector('float64')\n",
    "\n",
    "#Compute the gradient of the next weird function over my_scalar and my_vector\n",
    "#warning! Trying to understand the meaning of that function may result in permanent brain damage\n",
    "\n",
    "weird_psychotic_function = ((my_vector+my_scalar)**(1+T.var(my_vector)) + 1. / T.arcsinh(my_scalar)).mean() / (my_scalar**2 + 1) + 0.01 * T.sin(2 * my_scalar**1.5) * (T.sum(my_vector) * my_scalar**2) * T.exp((my_scalar - 4)**2) / (1 + T.exp((my_scalar - 4)**2)) * (1. - (T.exp( - (my_scalar - 4)**2)) / (1 + T.exp( - (my_scalar - 4)**2)))**2\n",
    "\n",
    "der_by_scalar, der_by_vector = (T.grad(weird_psychotic_function,my_scalar),T.grad(weird_psychotic_function,my_vector))\n",
    "\n",
    "compute_weird_function = theano.function([my_scalar, my_vector], weird_psychotic_function)\n",
    "compute_der_by_scalar = theano.function([my_scalar, my_vector], der_by_scalar)"
   ]
  },
  {
   "cell_type": "code",
   "execution_count": 28,
   "metadata": {
    "collapsed": false
   },
   "outputs": [
    {
     "data": {
      "text/plain": [
       "<matplotlib.legend.Legend at 0x7f7fb4153ef0>"
      ]
     },
     "execution_count": 28,
     "metadata": {},
     "output_type": "execute_result"
    },
    {
     "data": {
      "image/png": "[encoded data removed]",
      "text/plain": [
       "<matplotlib.figure.Figure at 0x7f7fb14c07f0>"
      ]
     },
     "metadata": {},
     "output_type": "display_data"
    }
   ],
   "source": [
    "#Plotting your derivative\n",
    "vector_0 = [1, 2, 3]\n",
    "\n",
    "scalar_space = np.linspace(0, 7)\n",
    "\n",
    "y = [compute_weird_function(x, vector_0) for x in scalar_space]\n",
    "plt.plot(scalar_space, y, label='function')\n",
    "y_der_by_scalar = [compute_der_by_scalar(x, vector_0) for x in scalar_space]\n",
    "plt.plot(scalar_space, y_der_by_scalar, label='derivative')\n",
    "plt.grid()\n",
    "plt.legend(loc='best')"
   ]
  },
  {
   "cell_type": "markdown",
   "metadata": {},
   "source": [
    "# Almost done - Updates\n",
    "\n",
    "* updates are a way of changing shared variables at after function call.\n",
    "\n",
    "* technically it's a dictionary {shared_variable : a recipe for new value} which is has to be provided when function is compiled\n",
    "\n",
    "That's how it works:"
   ]
  },
  {
   "cell_type": "code",
   "execution_count": 30,
   "metadata": {
    "collapsed": true
   },
   "outputs": [],
   "source": [
    "# Multiply shared vector by a number and save the product back into shared vector\n",
    "\n",
    "inputs = [input_scalar]\n",
    "outputs = [scalar_times_shared] #return vector times scalar\n",
    "\n",
    "my_updates = {\n",
    "    shared_vector_1:scalar_times_shared #and write this same result bach into shared_vector_1\n",
    "}\n",
    "\n",
    "compute_and_save = theano.function(inputs, outputs, updates=my_updates)"
   ]
  },
  {
   "cell_type": "code",
   "execution_count": 31,
   "metadata": {
    "collapsed": false
   },
   "outputs": [
    {
     "name": "stdout",
     "output_type": "stream",
     "text": [
      "initial shared value: [ 0.  1.  2.  3.  4.]\n",
      "compute_and_save(2) returns [array([ 0.,  2.,  4.,  6.,  8.])]\n",
      "new shared value: [ 0.  2.  4.  6.  8.]\n"
     ]
    }
   ],
   "source": [
    "shared_vector_1.set_value(np.arange(5))\n",
    "\n",
    "#initial shared_vector_1\n",
    "print('initial shared value:', shared_vector_1.get_value())\n",
    "\n",
    "# evaluating the function (shared_vector_1 will be changed)\n",
    "print('compute_and_save(2) returns', compute_and_save(2))\n",
    "\n",
    "#evaluate new shared_vector_1\n",
    "print('new shared value:', shared_vector_1.get_value())"
   ]
  },
  {
   "cell_type": "markdown",
   "metadata": {},
   "source": [
    "# Logistic regression example\n",
    "\n",
    "Implement the regular logistic regression training algorithm\n",
    "\n",
    "Tips:\n",
    "* Weights fit in as a shared variable\n",
    "* X and y are potential inputs\n",
    "* Compile 2 functions:\n",
    " * train_function(X, y) - returns error and computes weights' new values __(through updates)__\n",
    " * predict_fun(X) - just computes probabilities (\"y\") given data\n",
    " \n",
    " \n",
    "We shall train on a two-class MNIST dataset\n",
    "* please note that target y are {0,1} and not {-1,1} as in some formulae"
   ]
  },
  {
   "cell_type": "code",
   "execution_count": 32,
   "metadata": {
    "collapsed": false
   },
   "outputs": [
    {
     "name": "stdout",
     "output_type": "stream",
     "text": [
      "y [shape - (360,)]:[0 1 0 1 0 1 0 0 1 1]\n",
      "X [shape - (360, 65)]:\n",
      "[[  1.   0.   0.   5.  13.   9.   1.   0.   0.   0.   0.  13.  15.  10.\n",
      "   15.   5.   0.   0.   3.  15.   2.   0.  11.   8.   0.   0.   4.  12.\n",
      "    0.   0.   8.   8.   0.   0.   5.   8.   0.   0.   9.   8.   0.   0.\n",
      "    4.  11.   0.   1.  12.   7.   0.   0.   2.  14.   5.  10.  12.   0.\n",
      "    0.   0.   0.   6.  13.  10.   0.   0.   0.]\n",
      " [  1.   0.   0.   0.  12.  13.   5.   0.   0.   0.   0.   0.  11.  16.\n",
      "    9.   0.   0.   0.   0.   3.  15.  16.   6.   0.   0.   0.   7.  15.\n",
      "   16.  16.   2.   0.   0.   0.   0.   1.  16.  16.   3.   0.   0.   0.\n",
      "    0.   1.  16.  16.   6.   0.   0.   0.   0.   1.  16.  16.   6.   0.\n",
      "    0.   0.   0.   0.  11.  16.  10.   0.   0.]\n",
      " [  1.   0.   0.   1.   9.  15.  11.   0.   0.   0.   0.  11.  16.   8.\n",
      "   14.   6.   0.   0.   2.  16.  10.   0.   9.   9.   0.   0.   1.  16.\n",
      "    4.   0.   8.   8.   0.   0.   4.  16.   4.   0.   8.   8.   0.   0.\n",
      "    1.  16.   5.   1.  11.   3.   0.   0.   0.  12.  12.  10.  10.   0.\n",
      "    0.   0.   0.   1.  10.  13.   3.   0.   0.]]\n",
      "[0 1 0 1 0 1 0 0 1 1]\n"
     ]
    }
   ],
   "source": [
    "from sklearn.datasets import load_digits\n",
    "mnist = load_digits(2)\n",
    "\n",
    "X = mnist.data\n",
    "y = mnist.target\n",
    "Ones_column=np.ones((X.shape[0],1))\n",
    "X=np.c_[np.ones(X.shape[0]),X] #adding a column of ones\n",
    "\n",
    "print('y [shape - {}]:{}'.format(str(y.shape), y[:10]))\n",
    "print('X [shape - {}]:'.format(str(X.shape)))\n",
    "print(X[:3])\n",
    "print(y[:10])"
   ]
  },
  {
   "cell_type": "code",
   "execution_count": 57,
   "metadata": {
    "collapsed": false
   },
   "outputs": [],
   "source": [
    "# inputs and shareds\n",
    "shared_weights = theano.shared(np.random.normal(0,1,X.shape[1]))\n",
    "input_X = T.matrix('',dtype='float64')\n",
    "input_y = T.vector('',dtype='int32')"
   ]
  },
  {
   "cell_type": "code",
   "execution_count": 58,
   "metadata": {
    "collapsed": false
   },
   "outputs": [],
   "source": [
    "predicted_y = 1/(1+T.exp(input_X.dot(shared_weights.T)))\n",
    "loss = (-input_y*T.log(predicted_y+1e-6)-(1-input_y)*T.log(1-predicted_y+1e-6)).mean()\n",
    "\n",
    "grad = T.grad(loss, shared_weights)\n",
    "\n",
    "updates = {\n",
    "    shared_weights: shared_weights-0.01*grad #Implement your favorite stochastic optimization algorithm\n",
    "}"
   ]
  },
  {
   "cell_type": "code",
   "execution_count": 59,
   "metadata": {
    "collapsed": false
   },
   "outputs": [],
   "source": [
    "train_function = theano.function([input_X,input_y], loss, updates=updates,allow_input_downcast=True)\n",
    "predict_function = theano.function([input_X],predicted_y,allow_input_downcast=True)"
   ]
  },
  {
   "cell_type": "code",
   "execution_count": 60,
   "metadata": {
    "collapsed": false
   },
   "outputs": [],
   "source": [
    "from sklearn.cross_validation import train_test_split\n",
    "X_train,X_test,y_train,y_test = train_test_split(X,y)"
   ]
  },
  {
   "cell_type": "code",
   "execution_count": 61,
   "metadata": {
    "collapsed": false
   },
   "outputs": [
    {
     "name": "stdout",
     "output_type": "stream",
     "text": [
      "loss at iter 0:8.603800187628497\n",
      "train auc: 0.0778482758621\n",
      "test auc: 0.0739418663947\n",
      "loss at iter 1:8.083254644271882\n",
      "train auc: 0.0875034482759\n",
      "test auc: 0.0800611932687\n",
      "loss at iter 2:7.797279311894326\n",
      "train auc: 0.0969379310345\n",
      "test auc: 0.0887302396736\n",
      "loss at iter 3:7.631885844944031\n",
      "train auc: 0.103062068966\n",
      "test auc: 0.0968893421724\n",
      "loss at iter 4:7.523091099059925\n",
      "train auc: 0.109517241379\n",
      "test auc: 0.103518612953\n",
      "loss at iter 5:7.451964368749015\n",
      "train auc: 0.116524137931\n",
      "test auc: 0.10912799592\n",
      "loss at iter 6:7.406342520818744\n",
      "train auc: 0.121544827586\n",
      "test auc: 0.116777154513\n",
      "loss at iter 7:7.375996816726232\n",
      "train auc: 0.126179310345\n",
      "test auc: 0.121876593575\n",
      "loss at iter 8:7.352825651886206\n",
      "train auc: 0.130537931034\n",
      "test auc: 0.123406425293\n",
      "loss at iter 9:7.332426423014222\n",
      "train auc: 0.135779310345\n",
      "test auc: 0.12646608873\n",
      "loss at iter 10:7.312659142642492\n",
      "train auc: 0.140965517241\n",
      "test auc: 0.132075471698\n",
      "loss at iter 11:7.292247576217932\n",
      "train auc: 0.144772413793\n",
      "test auc: 0.140744518103\n",
      "loss at iter 12:7.2701383477371575\n",
      "train auc: 0.150234482759\n",
      "test auc: 0.145843957165\n",
      "loss at iter 13:7.2452401583679125\n",
      "train auc: 0.155751724138\n",
      "test auc: 0.148393676696\n",
      "loss at iter 14:7.216274613932382\n",
      "train auc: 0.161655172414\n",
      "test auc: 0.154003059663\n",
      "loss at iter 15:7.181695458446191\n",
      "train auc: 0.16755862069\n",
      "test auc: 0.160632330444\n",
      "loss at iter 16:7.139543634690991\n",
      "train auc: 0.175889655172\n",
      "test auc: 0.166241713412\n",
      "loss at iter 17:7.087212765837622\n",
      "train auc: 0.184275862069\n",
      "test auc: 0.177970423253\n",
      "loss at iter 18:7.02294603073201\n",
      "train auc: 0.193986206897\n",
      "test auc: 0.189699133095\n",
      "loss at iter 19:6.94844997405693\n",
      "train auc: 0.205351724138\n",
      "test auc: 0.203977562468\n",
      "loss at iter 20:6.866996565218822\n",
      "train auc: 0.21715862069\n",
      "test auc: 0.216726160122\n",
      "loss at iter 21:6.777523822282831\n",
      "train auc: 0.231062068966\n",
      "test auc: 0.225905150433\n",
      "loss at iter 22:6.676676389306192\n",
      "train auc: 0.245296551724\n",
      "test auc: 0.245283018868\n",
      "loss at iter 23:6.564939163502509\n",
      "train auc: 0.262565517241\n",
      "test auc: 0.269250382458\n",
      "loss at iter 24:6.442374137037511\n",
      "train auc: 0.28044137931\n",
      "test auc: 0.283018867925\n",
      "loss at iter 25:6.315647016167962\n",
      "train auc: 0.297765517241\n",
      "test auc: 0.301376848547\n",
      "loss at iter 26:6.2016065504736595\n",
      "train auc: 0.31564137931\n",
      "test auc: 0.329423763386\n",
      "loss at iter 27:6.09437824926563\n",
      "train auc: 0.335062068966\n",
      "test auc: 0.348291687914\n",
      "loss at iter 28:5.970375779887452\n",
      "train auc: 0.357351724138\n",
      "test auc: 0.373278939317\n",
      "loss at iter 29:5.801750778066455\n",
      "train auc: 0.385544827586\n",
      "test auc: 0.397246302907\n",
      "loss at iter 30:5.569479103707202\n",
      "train auc: 0.413793103448\n",
      "test auc: 0.422743498215\n",
      "loss at iter 31:5.274961620599552\n",
      "train auc: 0.450979310345\n",
      "test auc: 0.453850076492\n",
      "loss at iter 32:4.894632845805924\n",
      "train auc: 0.491862068966\n",
      "test auc: 0.482916879143\n",
      "loss at iter 33:4.419132255354148\n",
      "train auc: 0.53484137931\n",
      "test auc: 0.515553289138\n",
      "loss at iter 34:4.009084046139989\n",
      "train auc: 0.5808\n",
      "test auc: 0.558388577257\n",
      "loss at iter 35:3.6486404140345026\n",
      "train auc: 0.622013793103\n",
      "test auc: 0.588475267721\n",
      "loss at iter 36:3.305490471269129\n",
      "train auc: 0.662675862069\n",
      "test auc: 0.621111677715\n",
      "loss at iter 37:2.9990084557925476\n",
      "train auc: 0.698482758621\n",
      "test auc: 0.661907190209\n",
      "loss at iter 38:2.7260882487233196\n",
      "train auc: 0.733296551724\n",
      "test auc: 0.694033656298\n",
      "loss at iter 39:2.479507401338911\n",
      "train auc: 0.762537931034\n",
      "test auc: 0.727689954105\n",
      "loss at iter 40:2.2635847051003415\n",
      "train auc: 0.788689655172\n",
      "test auc: 0.756756756757\n",
      "loss at iter 41:2.0754081195590657\n",
      "train auc: 0.809820689655\n",
      "test auc: 0.781234064253\n",
      "loss at iter 42:1.9060916912226216\n",
      "train auc: 0.8304\n",
      "test auc: 0.804691483937\n",
      "loss at iter 43:1.7498001309557598\n",
      "train auc: 0.848331034483\n",
      "test auc: 0.826619071902\n",
      "loss at iter 44:1.602215875999291\n",
      "train auc: 0.864937931034\n",
      "test auc: 0.844977052524\n",
      "loss at iter 45:1.4675562399409088\n",
      "train auc: 0.878786206897\n",
      "test auc: 0.860785313616\n",
      "loss at iter 46:1.350193743340201\n",
      "train auc: 0.891255172414\n",
      "test auc: 0.874043855176\n",
      "loss at iter 47:1.244146946458696\n",
      "train auc: 0.903282758621\n",
      "test auc: 0.884242733299\n",
      "loss at iter 48:1.1428882653116568\n",
      "train auc: 0.912882758621\n",
      "test auc: 0.895461499235\n",
      "loss at iter 49:1.0444007208857509\n",
      "train auc: 0.923089655172\n",
      "test auc: 0.904640489546\n",
      "loss at iter 50:0.9514247327887618\n",
      "train auc: 0.933406896552\n",
      "test auc: 0.910249872514\n",
      "loss at iter 51:0.8677565179535978\n",
      "train auc: 0.939255172414\n",
      "test auc: 0.919938806731\n",
      "loss at iter 52:0.7948250407739159\n",
      "train auc: 0.94444137931\n",
      "test auc: 0.926568077511\n",
      "loss at iter 53:0.7329323100325067\n",
      "train auc: 0.949406896552\n",
      "test auc: 0.929627740948\n",
      "loss at iter 54:0.6810392298939976\n",
      "train auc: 0.955365517241\n",
      "test auc: 0.933197348292\n",
      "loss at iter 55:0.637145478216966\n",
      "train auc: 0.958731034483\n",
      "test auc: 0.93880673126\n",
      "loss at iter 56:0.5993324365509494\n",
      "train auc: 0.962537931034\n",
      "test auc: 0.944416114227\n",
      "loss at iter 57:0.5660410580106681\n",
      "train auc: 0.965131034483\n",
      "test auc: 0.950535441101\n",
      "loss at iter 58:0.5360473011339898\n",
      "train auc: 0.967448275862\n",
      "test auc: 0.954105048445\n",
      "loss at iter 59:0.5084689796896903\n",
      "train auc: 0.969875862069\n",
      "test auc: 0.956654767976\n",
      "loss at iter 60:0.4827589933678083\n",
      "train auc: 0.972468965517\n",
      "test auc: 0.960224375319\n",
      "loss at iter 61:0.45865706288036545\n",
      "train auc: 0.974565517241\n",
      "test auc: 0.96277409485\n",
      "loss at iter 62:0.4361112898934982\n",
      "train auc: 0.976275862069\n",
      "test auc: 0.964813870474\n",
      "loss at iter 63:0.4151829701059485\n",
      "train auc: 0.977986206897\n",
      "test auc: 0.966853646099\n",
      "loss at iter 64:0.3959497232221833\n",
      "train auc: 0.979089655172\n",
      "test auc: 0.968893421724\n",
      "loss at iter 65:0.378431874595493\n",
      "train auc: 0.980524137931\n",
      "test auc: 0.970933197348\n",
      "loss at iter 66:0.3625638694768419\n",
      "train auc: 0.981517241379\n",
      "test auc: 0.971953085161\n",
      "loss at iter 67:0.3482088430009935\n",
      "train auc: 0.9824\n",
      "test auc: 0.972972972973\n",
      "loss at iter 68:0.33519416180871037\n",
      "train auc: 0.983944827586\n",
      "test auc: 0.973992860785\n",
      "loss at iter 69:0.32334434790020095\n",
      "train auc: 0.984827586207\n",
      "test auc: 0.974502804691\n",
      "loss at iter 70:0.312499758315611\n",
      "train auc: 0.985875862069\n",
      "test auc: 0.975522692504\n",
      "loss at iter 71:0.30252202031180253\n",
      "train auc: 0.986979310345\n",
      "test auc: 0.97603263641\n",
      "loss at iter 72:0.29329248150290854\n",
      "train auc: 0.987696551724\n",
      "test auc: 0.977562468129\n",
      "loss at iter 73:0.2847089254534691\n",
      "train auc: 0.98835862069\n",
      "test auc: 0.978072412035\n",
      "loss at iter 74:0.2766829946886622\n",
      "train auc: 0.9888\n",
      "test auc: 0.980112187659\n",
      "loss at iter 75:0.26913872172639014\n",
      "train auc: 0.989351724138\n",
      "test auc: 0.980112187659\n",
      "loss at iter 76:0.2620117175754836\n",
      "train auc: 0.989517241379\n",
      "test auc: 0.980622131566\n",
      "loss at iter 77:0.25524848527898686\n",
      "train auc: 0.989682758621\n",
      "test auc: 0.980622131566\n",
      "loss at iter 78:0.2488055347452969\n",
      "train auc: 0.989793103448\n",
      "test auc: 0.983171851096\n",
      "loss at iter 79:0.24264819629711445\n",
      "train auc: 0.990344827586\n",
      "test auc: 0.984701682815\n",
      "loss at iter 80:0.23674917746866836\n",
      "train auc: 0.990675862069\n",
      "test auc: 0.985211626721\n",
      "loss at iter 81:0.23108698131941902\n",
      "train auc: 0.991006896552\n",
      "test auc: 0.986231514533\n",
      "loss at iter 82:0.22564433632234576\n",
      "train auc: 0.991172413793\n",
      "test auc: 0.98674145844\n",
      "loss at iter 83:0.22040678706483222\n",
      "train auc: 0.991448275862\n",
      "test auc: 0.987251402346\n",
      "loss at iter 84:0.21536156574908727\n",
      "train auc: 0.991613793103\n",
      "test auc: 0.987251402346\n",
      "loss at iter 85:0.21049680806010668\n",
      "train auc: 0.991889655172\n",
      "test auc: 0.987251402346\n",
      "loss at iter 86:0.2058011101538383\n",
      "train auc: 0.992055172414\n",
      "test auc: 0.988271290158\n",
      "loss at iter 87:0.20126336557091173\n",
      "train auc: 0.992386206897\n",
      "test auc: 0.988271290158\n",
      "loss at iter 88:0.19687279176671055\n",
      "train auc: 0.992662068966\n",
      "test auc: 0.98929117797\n",
      "loss at iter 89:0.1926190548101709\n",
      "train auc: 0.992772413793\n",
      "test auc: 0.98929117797\n",
      "loss at iter 90:0.18849242069257724\n",
      "train auc: 0.993048275862\n",
      "test auc: 0.98929117797\n",
      "loss at iter 91:0.1844838892884387\n",
      "train auc: 0.99315862069\n",
      "test auc: 0.98929117797\n",
      "loss at iter 92:0.18058528992338768\n",
      "train auc: 0.993324137931\n",
      "test auc: 0.989801121877\n",
      "loss at iter 93:0.17678933494888194\n",
      "train auc: 0.993655172414\n",
      "test auc: 0.989801121877\n",
      "loss at iter 94:0.17308963677806968\n",
      "train auc: 0.993765517241\n",
      "test auc: 0.989801121877\n",
      "loss at iter 95:0.16948069744006844\n",
      "train auc: 0.993875862069\n",
      "test auc: 0.989801121877\n",
      "loss at iter 96:0.16595788042778534\n",
      "train auc: 0.993986206897\n",
      "test auc: 0.989801121877\n",
      "loss at iter 97:0.1625173732891807\n",
      "train auc: 0.99404137931\n",
      "test auc: 0.989801121877\n",
      "loss at iter 98:0.15915614689667304\n",
      "train auc: 0.994096551724\n",
      "test auc: 0.990311065783\n",
      "loss at iter 99:0.15587191558959126\n",
      "train auc: 0.994151724138\n",
      "test auc: 0.990311065783\n",
      "resulting weights:\n"
     ]
    },
    {
     "data": {
      "text/plain": [
       "<matplotlib.colorbar.Colorbar at 0x7f7faa4f6780>"
      ]
     },
     "execution_count": 61,
     "metadata": {},
     "output_type": "execute_result"
    },
    {
     "data": {
      "image/png": "[encoded data removed]",
      "text/plain": [
       "<matplotlib.figure.Figure at 0x7f7faa1ddeb8>"
      ]
     },
     "metadata": {},
     "output_type": "display_data"
    }
   ],
   "source": [
    "from sklearn.metrics import roc_auc_score\n",
    "\n",
    "for i in range(100):\n",
    "    loss_i = train_function(X_train,y_train)\n",
    "    print('loss at iter {}:{}'.format(i, loss_i))\n",
    "    print('train auc:', roc_auc_score(y_train,predict_function(X_train)))\n",
    "    print('test auc:', roc_auc_score(y_test,predict_function(X_test)))\n",
    "    \n",
    "print('resulting weights:')\n",
    "          \n",
    "plt.imshow(shared_weights.get_value().reshape(5, -1))\n",
    "plt.colorbar()"
   ]
  },
  {
   "cell_type": "markdown",
   "metadata": {},
   "source": [
    "# Report\n",
    "\n",
    "I did such and such, that did that cool thing and my awesome logistic regression bloated out that stuff. Finally, i did that thing and felt like Einstein. That cool article and that kind of weed helped me so much (if any)."
   ]
  },
  {
   "cell_type": "code",
   "execution_count": null,
   "metadata": {
    "collapsed": true
   },
   "outputs": [],
   "source": [
    "#Everything was easy and very usefull as an intro to theano. In the logistic regression part, I noticed that we are \n",
    "#doing a logistic regression without having a bias term in weights, which can make results poorer depending on the \n",
    "#problem. So I added a new column of ones in the data and just increased the length of weight vector by one, in my \n",
    "#opinion that would be the easiest way to add a bias term.\n",
    "\n",
    "#Below is one result before adding bias, sorry for not having 5 of them :), and 5 results after adding bias term.\n",
    "#Results are taken after 100-th iteration.\n",
    "\n",
    "##without bias\n",
    "\n",
    "    #test auc: 0.978765432099\n",
    "\n",
    "##with bias\n",
    "\n",
    "    #test auc: 0.996536368135\n",
    "    #test auc: 1.0\n",
    "    #test auc: 1.0\n",
    "    #test auc: 0.972345679012\n",
    "    #test auc: 0.975360876058\n",
    "\n",
    "\n",
    "\n",
    "\n",
    "\n",
    "\n",
    "\n",
    "\n",
    "\n",
    "\n",
    "\n",
    "\n",
    "\n",
    "\n",
    "\n",
    "\n",
    "\n",
    "\n",
    "\n",
    "\n",
    "\n"
   ]
  },
  {
   "cell_type": "markdown",
   "metadata": {},
   "source": [
    "# SPOILERS!\n",
    "\n",
    "## Recommended pipeline\n",
    "* Adapt logistic regression to classify some number against others (e.g. zero vs nonzero)\n",
    "    * Generalize it to multiclass logistic regression.\n",
    "* Instead of weight vector you'll have to use matrix (feature_id x class_id)\n",
    "* softmax (exp over sum of exps) can be implemented manually or as T.nnet.softmax (stable)\n",
    "* probably better to use STOCHASTIC gradient descent (minibatch)\n",
    "     in which case sample should probably be shuffled (or use random subsamples on each iteration)"
   ]
  }
 ],
 "metadata": {
  "kernelspec": {
   "display_name": "Python 3",
   "language": "python",
   "name": "python3"
  },
  "language_info": {
   "codemirror_mode": {
    "name": "ipython",
    "version": 3
   },
   "file_extension": ".py",
   "mimetype": "text/x-python",
   "name": "python",
   "nbconvert_exporter": "python",
   "pygments_lexer": "ipython3",
   "version": "3.6.0"
  },
  "toc": {
   "colors": {
    "hover_highlight": "#DAA520",
    "running_highlight": "#FF0000",
    "selected_highlight": "#FFD700"
   },
   "moveMenuLeft": true,
   "nav_menu": {
    "height": "314px",
    "width": "252px"
   },
   "navigate_menu": true,
   "number_sections": true,
   "sideBar": false,
   "threshold": 4,
   "toc_cell": false,
   "toc_position": {
    "height": "371px",
    "left": "0.989583px",
    "right": "20px",
    "top": "106.997px",
    "width": "249px"
   },
   "toc_section_display": "block",
   "toc_window_display": false,
   "widenNotebook": false
  }
 },
 "nbformat": 4,
 "nbformat_minor": 1
}
